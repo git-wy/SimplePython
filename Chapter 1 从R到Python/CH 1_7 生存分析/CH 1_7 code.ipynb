{
 "cells": [
  {
   "cell_type": "markdown",
   "source": [
    "# Chapter 1_6 泊松回归\n",
    "----\n",
    "author: W.Y.  \n",
    "first_edition: 2020/1/16  \n",
    "last_edition: 2020/1/28  \n",
    "description: 王汉生老师书的第七章，生存分析的python极简实现  \n",
    "\n",
    "----"
   ],
   "metadata": {
    "collapsed": false
   }
  },
  {
   "cell_type": "code",
   "execution_count": 7,
   "outputs": [],
   "source": [
    "# 导入模块\n",
    "import pandas as pd\n",
    "import numpy as np\n",
    "import matplotlib.pyplot as plt  # 画图模块\n",
    "import matplotlib\n",
    "import seaborn as sns\n",
    "import statsmodels.formula.api as smf  \n",
    "import statsmodels.api as sma\n",
    "import lmdiag  \n",
    "from sklearn import metrics\n",
    "from lifelines import CoxPHFitter\n",
    "from lifelines import KaplanMeierFitter"
   ],
   "metadata": {
    "collapsed": false,
    "pycharm": {
     "name": "#%%\n",
     "is_executing": false
    }
   }
  },
  {
   "cell_type": "code",
   "execution_count": 2,
   "outputs": [],
   "source": [
    "# 导入数据\n",
    "\n",
    "data = pd.read_csv('E:\\Data Mining\\SimplePython\\Chapter 1 从R到Python\\CH 1_7 生存分析\\CH 1_7 data.csv')"
   ],
   "metadata": {
    "collapsed": false,
    "pycharm": {
     "name": "#%%\n",
     "is_executing": false
    }
   }
  },
  {
   "cell_type": "code",
   "execution_count": 3,
   "outputs": [
    {
     "data": {
      "text/plain": "     Time  VStatus   HGB  Platelet  Age  LogWBC  LogPBM  Protein  SCalc\n0    4.00        0  10.2         1   59  4.0453  0.7782       12     10\n1    4.00        0  10.0         1   49  3.9590  1.6232        0     13\n2    7.00        0  12.4         1   48  3.7993  1.8573        0     10\n3    7.00        0  10.2         1   81  3.5911  1.8808        0     11\n4    8.00        0   9.9         1   57  3.8325  1.6532        0      8\n5   12.00        0  11.6         1   46  3.6435  1.1461        0      7\n6   11.00        0  14.0         1   60  3.7324  1.8451        3      9\n7   12.00        0   8.8         1   66  3.8388  1.3617        0      9\n8   13.00        0   4.9         0   71  3.6435  1.7924        0      9\n9   16.00        0  13.0         1   55  3.8573  0.9031        0      9\n10  19.00        0  13.0         1   59  3.7709  2.0000        1     10\n11  19.00        0  10.8         1   69  3.8808  1.5185        0     10\n12  28.00        0   7.3         1   82  3.7482  1.6721        0      9\n13  41.00        0  12.8         1   72  3.7243  1.4472        1      9\n14  53.00        0  12.0         1   66  3.6128  2.0000        1     11\n15  57.00        0  12.5         1   66  3.9685  1.9542        0     11\n16  77.00        0  14.0         1   60  3.6812  0.9542        0     12\n17   1.25        1   9.4         1   67  3.6628  1.9542       12     10\n18   1.25        1  12.0         1   38  3.9868  1.9542       20     18\n19   2.00        1   9.8         1   81  3.8751  2.0000        2     15",
      "text/html": "<div>\n<style scoped>\n    .dataframe tbody tr th:only-of-type {\n        vertical-align: middle;\n    }\n\n    .dataframe tbody tr th {\n        vertical-align: top;\n    }\n\n    .dataframe thead th {\n        text-align: right;\n    }\n</style>\n<table border=\"1\" class=\"dataframe\">\n  <thead>\n    <tr style=\"text-align: right;\">\n      <th></th>\n      <th>Time</th>\n      <th>VStatus</th>\n      <th>HGB</th>\n      <th>Platelet</th>\n      <th>Age</th>\n      <th>LogWBC</th>\n      <th>LogPBM</th>\n      <th>Protein</th>\n      <th>SCalc</th>\n    </tr>\n  </thead>\n  <tbody>\n    <tr>\n      <th>0</th>\n      <td>4.00</td>\n      <td>0</td>\n      <td>10.2</td>\n      <td>1</td>\n      <td>59</td>\n      <td>4.0453</td>\n      <td>0.7782</td>\n      <td>12</td>\n      <td>10</td>\n    </tr>\n    <tr>\n      <th>1</th>\n      <td>4.00</td>\n      <td>0</td>\n      <td>10.0</td>\n      <td>1</td>\n      <td>49</td>\n      <td>3.9590</td>\n      <td>1.6232</td>\n      <td>0</td>\n      <td>13</td>\n    </tr>\n    <tr>\n      <th>2</th>\n      <td>7.00</td>\n      <td>0</td>\n      <td>12.4</td>\n      <td>1</td>\n      <td>48</td>\n      <td>3.7993</td>\n      <td>1.8573</td>\n      <td>0</td>\n      <td>10</td>\n    </tr>\n    <tr>\n      <th>3</th>\n      <td>7.00</td>\n      <td>0</td>\n      <td>10.2</td>\n      <td>1</td>\n      <td>81</td>\n      <td>3.5911</td>\n      <td>1.8808</td>\n      <td>0</td>\n      <td>11</td>\n    </tr>\n    <tr>\n      <th>4</th>\n      <td>8.00</td>\n      <td>0</td>\n      <td>9.9</td>\n      <td>1</td>\n      <td>57</td>\n      <td>3.8325</td>\n      <td>1.6532</td>\n      <td>0</td>\n      <td>8</td>\n    </tr>\n    <tr>\n      <th>5</th>\n      <td>12.00</td>\n      <td>0</td>\n      <td>11.6</td>\n      <td>1</td>\n      <td>46</td>\n      <td>3.6435</td>\n      <td>1.1461</td>\n      <td>0</td>\n      <td>7</td>\n    </tr>\n    <tr>\n      <th>6</th>\n      <td>11.00</td>\n      <td>0</td>\n      <td>14.0</td>\n      <td>1</td>\n      <td>60</td>\n      <td>3.7324</td>\n      <td>1.8451</td>\n      <td>3</td>\n      <td>9</td>\n    </tr>\n    <tr>\n      <th>7</th>\n      <td>12.00</td>\n      <td>0</td>\n      <td>8.8</td>\n      <td>1</td>\n      <td>66</td>\n      <td>3.8388</td>\n      <td>1.3617</td>\n      <td>0</td>\n      <td>9</td>\n    </tr>\n    <tr>\n      <th>8</th>\n      <td>13.00</td>\n      <td>0</td>\n      <td>4.9</td>\n      <td>0</td>\n      <td>71</td>\n      <td>3.6435</td>\n      <td>1.7924</td>\n      <td>0</td>\n      <td>9</td>\n    </tr>\n    <tr>\n      <th>9</th>\n      <td>16.00</td>\n      <td>0</td>\n      <td>13.0</td>\n      <td>1</td>\n      <td>55</td>\n      <td>3.8573</td>\n      <td>0.9031</td>\n      <td>0</td>\n      <td>9</td>\n    </tr>\n    <tr>\n      <th>10</th>\n      <td>19.00</td>\n      <td>0</td>\n      <td>13.0</td>\n      <td>1</td>\n      <td>59</td>\n      <td>3.7709</td>\n      <td>2.0000</td>\n      <td>1</td>\n      <td>10</td>\n    </tr>\n    <tr>\n      <th>11</th>\n      <td>19.00</td>\n      <td>0</td>\n      <td>10.8</td>\n      <td>1</td>\n      <td>69</td>\n      <td>3.8808</td>\n      <td>1.5185</td>\n      <td>0</td>\n      <td>10</td>\n    </tr>\n    <tr>\n      <th>12</th>\n      <td>28.00</td>\n      <td>0</td>\n      <td>7.3</td>\n      <td>1</td>\n      <td>82</td>\n      <td>3.7482</td>\n      <td>1.6721</td>\n      <td>0</td>\n      <td>9</td>\n    </tr>\n    <tr>\n      <th>13</th>\n      <td>41.00</td>\n      <td>0</td>\n      <td>12.8</td>\n      <td>1</td>\n      <td>72</td>\n      <td>3.7243</td>\n      <td>1.4472</td>\n      <td>1</td>\n      <td>9</td>\n    </tr>\n    <tr>\n      <th>14</th>\n      <td>53.00</td>\n      <td>0</td>\n      <td>12.0</td>\n      <td>1</td>\n      <td>66</td>\n      <td>3.6128</td>\n      <td>2.0000</td>\n      <td>1</td>\n      <td>11</td>\n    </tr>\n    <tr>\n      <th>15</th>\n      <td>57.00</td>\n      <td>0</td>\n      <td>12.5</td>\n      <td>1</td>\n      <td>66</td>\n      <td>3.9685</td>\n      <td>1.9542</td>\n      <td>0</td>\n      <td>11</td>\n    </tr>\n    <tr>\n      <th>16</th>\n      <td>77.00</td>\n      <td>0</td>\n      <td>14.0</td>\n      <td>1</td>\n      <td>60</td>\n      <td>3.6812</td>\n      <td>0.9542</td>\n      <td>0</td>\n      <td>12</td>\n    </tr>\n    <tr>\n      <th>17</th>\n      <td>1.25</td>\n      <td>1</td>\n      <td>9.4</td>\n      <td>1</td>\n      <td>67</td>\n      <td>3.6628</td>\n      <td>1.9542</td>\n      <td>12</td>\n      <td>10</td>\n    </tr>\n    <tr>\n      <th>18</th>\n      <td>1.25</td>\n      <td>1</td>\n      <td>12.0</td>\n      <td>1</td>\n      <td>38</td>\n      <td>3.9868</td>\n      <td>1.9542</td>\n      <td>20</td>\n      <td>18</td>\n    </tr>\n    <tr>\n      <th>19</th>\n      <td>2.00</td>\n      <td>1</td>\n      <td>9.8</td>\n      <td>1</td>\n      <td>81</td>\n      <td>3.8751</td>\n      <td>2.0000</td>\n      <td>2</td>\n      <td>15</td>\n    </tr>\n  </tbody>\n</table>\n</div>"
     },
     "metadata": {},
     "output_type": "execute_result",
     "execution_count": 3
    }
   ],
   "source": [
    "data.head(20)"
   ],
   "metadata": {
    "collapsed": false,
    "pycharm": {
     "name": "#%%\n",
     "is_executing": false
    }
   }
  },
  {
   "cell_type": "code",
   "execution_count": 6,
   "outputs": [
    {
     "data": {
      "text/plain": "<IPython.core.display.HTML object>",
      "text/html": "<div>\n<style scoped>\n    .dataframe tbody tr th:only-of-type {\n        vertical-align: middle;\n    }\n\n    .dataframe tbody tr th {\n        vertical-align: top;\n    }\n\n    .dataframe thead th {\n        text-align: right;\n    }\n</style>\n<table border=\"1\" class=\"dataframe\">\n  <tbody>\n    <tr>\n      <th>model</th>\n      <td>lifelines.CoxPHFitter</td>\n    </tr>\n    <tr>\n      <th>duration col</th>\n      <td>'Time'</td>\n    </tr>\n    <tr>\n      <th>event col</th>\n      <td>'VStatus'</td>\n    </tr>\n    <tr>\n      <th>number of observations</th>\n      <td>65</td>\n    </tr>\n    <tr>\n      <th>number of events observed</th>\n      <td>48</td>\n    </tr>\n    <tr>\n      <th>partial log-likelihood</th>\n      <td>-149.39</td>\n    </tr>\n    <tr>\n      <th>time fit was run</th>\n      <td>2020-01-28 12:21:05 UTC</td>\n    </tr>\n  </tbody>\n</table>\n</div><table border=\"1\" class=\"dataframe\">\n  <thead>\n    <tr style=\"text-align: right;\">\n      <th></th>\n      <th>coef</th>\n      <th>exp(coef)</th>\n      <th>se(coef)</th>\n      <th>coef lower 95%</th>\n      <th>coef upper 95%</th>\n      <th>exp(coef) lower 95%</th>\n      <th>exp(coef) upper 95%</th>\n      <th>z</th>\n      <th>p</th>\n      <th>-log2(p)</th>\n    </tr>\n  </thead>\n  <tbody>\n    <tr>\n      <th>HGB</th>\n      <td>-0.14</td>\n      <td>0.87</td>\n      <td>0.07</td>\n      <td>-0.29</td>\n      <td>0.00</td>\n      <td>0.75</td>\n      <td>1.00</td>\n      <td>-1.95</td>\n      <td>0.05</td>\n      <td>4.30</td>\n    </tr>\n    <tr>\n      <th>Platelet</th>\n      <td>-0.29</td>\n      <td>0.75</td>\n      <td>0.51</td>\n      <td>-1.29</td>\n      <td>0.71</td>\n      <td>0.27</td>\n      <td>2.03</td>\n      <td>-0.57</td>\n      <td>0.57</td>\n      <td>0.81</td>\n    </tr>\n    <tr>\n      <th>Age</th>\n      <td>-0.00</td>\n      <td>1.00</td>\n      <td>0.02</td>\n      <td>-0.04</td>\n      <td>0.03</td>\n      <td>0.96</td>\n      <td>1.03</td>\n      <td>-0.20</td>\n      <td>0.84</td>\n      <td>0.24</td>\n    </tr>\n    <tr>\n      <th>LogWBC</th>\n      <td>0.99</td>\n      <td>2.68</td>\n      <td>0.80</td>\n      <td>-0.59</td>\n      <td>2.56</td>\n      <td>0.56</td>\n      <td>12.89</td>\n      <td>1.23</td>\n      <td>0.22</td>\n      <td>2.19</td>\n    </tr>\n    <tr>\n      <th>LogPBM</th>\n      <td>0.22</td>\n      <td>1.24</td>\n      <td>0.45</td>\n      <td>-0.67</td>\n      <td>1.11</td>\n      <td>0.51</td>\n      <td>3.04</td>\n      <td>0.48</td>\n      <td>0.63</td>\n      <td>0.67</td>\n    </tr>\n    <tr>\n      <th>Protein</th>\n      <td>0.01</td>\n      <td>1.01</td>\n      <td>0.03</td>\n      <td>-0.04</td>\n      <td>0.06</td>\n      <td>0.96</td>\n      <td>1.07</td>\n      <td>0.49</td>\n      <td>0.63</td>\n      <td>0.67</td>\n    </tr>\n    <tr>\n      <th>SCalc</th>\n      <td>0.15</td>\n      <td>1.16</td>\n      <td>0.11</td>\n      <td>-0.07</td>\n      <td>0.37</td>\n      <td>0.93</td>\n      <td>1.45</td>\n      <td>1.35</td>\n      <td>0.18</td>\n      <td>2.51</td>\n    </tr>\n  </tbody>\n</table><div>\n<style scoped>\n    .dataframe tbody tr th:only-of-type {\n        vertical-align: middle;\n    }\n\n    .dataframe tbody tr th {\n        vertical-align: top;\n    }\n\n    .dataframe thead th {\n        text-align: right;\n    }\n</style>\n<table border=\"1\" class=\"dataframe\">\n  <tbody>\n    <tr>\n      <th>Concordance</th>\n      <td>0.63</td>\n    </tr>\n    <tr>\n      <th>Log-likelihood ratio test</th>\n      <td>9.62 on 7 df, -log2(p)=2.24</td>\n    </tr>\n  </tbody>\n</table>\n</div>"
     },
     "metadata": {},
     "output_type": "display_data"
    }
   ],
   "source": [
    "# 生存分析。会自动排除截断数据，所以书中前两步就不用了\n",
    "cph = CoxPHFitter()\n",
    "cph.fit(data, duration_col='Time', event_col='VStatus')\n",
    "cph.print_summary()  "
   ],
   "metadata": {
    "collapsed": false,
    "pycharm": {
     "name": "#%%\n",
     "is_executing": false
    }
   }
  },
  {
   "cell_type": "code",
   "execution_count": 10,
   "outputs": [
    {
     "data": {
      "text/plain": "<matplotlib.axes._subplots.AxesSubplot at 0x19e87a1f6d8>"
     },
     "metadata": {},
     "output_type": "execute_result",
     "execution_count": 10
    },
    {
     "data": {
      "text/plain": "<Figure size 432x288 with 1 Axes>",
      "image/png": "[encoded data removed]"
     },
     "metadata": {
      "needs_background": "light"
     },
     "output_type": "display_data"
    }
   ],
   "source": [
    "kmf = KaplanMeierFitter()\n",
    "kmf.fit(data['Time'], event_observed=data['VStatus'])\n",
    "\n",
    "kmf.plot()"
   ],
   "metadata": {
    "collapsed": false,
    "pycharm": {
     "name": "#%%\n",
     "is_executing": false
    }
   }
  },
  {
   "cell_type": "code",
   "execution_count": 11,
   "outputs": [],
   "source": [
    "data['status'] = data['HGB'].apply(lambda x: 1 if x>data['HGB'].median() else 0)"
   ],
   "metadata": {
    "collapsed": false,
    "pycharm": {
     "name": "#%%\n",
     "is_executing": false
    }
   }
  },
  {
   "cell_type": "code",
   "execution_count": 15,
   "outputs": [
    {
     "data": {
      "text/plain": "<matplotlib.axes._subplots.AxesSubplot at 0x19e87c9d748>"
     },
     "metadata": {},
     "output_type": "execute_result",
     "execution_count": 15
    },
    {
     "data": {
      "text/plain": "<Figure size 432x288 with 1 Axes>",
      "image/png": "[encoded data removed]"
     },
     "metadata": {
      "needs_background": "light"
     },
     "output_type": "display_data"
    }
   ],
   "source": [
    "kmf = KaplanMeierFitter()\n",
    "HGB_group = (data['status'] == 1)\n",
    " \n",
    "kmf.fit(data['Time'][~HGB_group], data['VStatus'][~HGB_group], label='HGB<Median')\n",
    "ax = kmf.plot()\n",
    " \n",
    "kmf.fit(data['Time'][HGB_group], data['VStatus'][HGB_group], label='HGB>Median')\n",
    "kmf.plot(ax=ax)"
   ],
   "metadata": {
    "collapsed": false,
    "pycharm": {
     "name": "#%%\n",
     "is_executing": false
    }
   }
  },
  {
   "cell_type": "code",
   "execution_count": 17,
   "outputs": [
    {
     "data": {
      "text/plain": "<matplotlib.axes._subplots.AxesSubplot at 0x19e87d91da0>"
     },
     "metadata": {},
     "output_type": "execute_result",
     "execution_count": 17
    },
    {
     "data": {
      "text/plain": "<Figure size 432x288 with 1 Axes>",
      "image/png": "[encoded data removed]"
     },
     "metadata": {
      "needs_background": "light"
     },
     "output_type": "display_data"
    }
   ],
   "source": [
    "kmf = KaplanMeierFitter()\n",
    "Platelet = (data['Platelet'] == 1)\n",
    " \n",
    "kmf.fit(data['Time'][~Platelet], data['VStatus'][~Platelet], label='abnormal')\n",
    "ax = kmf.plot()\n",
    " \n",
    "kmf.fit(data['Time'][Platelet], data['VStatus'][Platelet], label='normal')\n",
    "kmf.plot(ax=ax)"
   ],
   "metadata": {
    "collapsed": false,
    "pycharm": {
     "name": "#%%\n",
     "is_executing": false
    }
   }
  },
  {
   "cell_type": "code",
   "execution_count": null,
   "outputs": [],
   "source": [
    "\n"
   ],
   "metadata": {
    "collapsed": false,
    "pycharm": {
     "name": "#%%\n"
    }
   }
  }
 ],
 "metadata": {
  "kernelspec": {
   "display_name": "Python 3",
   "language": "python",
   "name": "python3"
  },
  "language_info": {
   "codemirror_mode": {
    "name": "ipython",
    "version": 2
   },
   "file_extension": ".py",
   "mimetype": "text/x-python",
   "name": "python",
   "nbconvert_exporter": "python",
   "pygments_lexer": "ipython2",
   "version": "2.7.6"
  },
  "pycharm": {
   "stem_cell": {
    "cell_type": "raw",
    "source": [],
    "metadata": {
     "collapsed": false
    }
   }
  }
 },
 "nbformat": 4,
 "nbformat_minor": 0
}