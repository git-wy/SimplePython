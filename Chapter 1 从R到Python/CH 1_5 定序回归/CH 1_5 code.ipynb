{
 "cells": [
  {
   "cell_type": "markdown",
   "source": [
    "# Chapter 1_5 定序回归\n",
    "----\n",
    "author: W.Y.  \n",
    "first_edition: 2020/1/16  \n",
    "last_edition: 2020/1/21  \n",
    "description: 王汉生老师书的第五章，定序回归的python极简实现  \n",
    "\n",
    "----"
   ],
   "metadata": {
    "collapsed": false
   }
  },
  {
   "cell_type": "code",
   "execution_count": 1,
   "outputs": [],
   "source": [
    "# 导入模块\n",
    "import pandas as pd\n",
    "import numpy as np\n",
    "import matplotlib.pyplot as plt  # 画图模块\n",
    "import matplotlib\n",
    "import seaborn as sns\n",
    "import statsmodels.formula.api as smf  \n",
    "import statsmodels.api as sma\n",
    "import lmdiag  \n",
    "from sklearn import metrics\n"
   ],
   "metadata": {
    "collapsed": false,
    "pycharm": {
     "name": "#%%\n",
     "is_executing": false
    }
   }
  },
  {
   "cell_type": "code",
   "execution_count": 2,
   "outputs": [],
   "source": [
    "# 导入数据\n",
    "\n",
    "data = pd.read_csv('E:/Data Mining/SimplePython/Chapter 1 从R到Python/CH 1_5 定序回归/CH 1_5 data ceilphone.csv')"
   ],
   "metadata": {
    "collapsed": false,
    "pycharm": {
     "name": "#%%\n",
     "is_executing": false
    }
   }
  },
  {
   "cell_type": "code",
   "execution_count": 3,
   "outputs": [
    {
     "data": {
      "text/plain": "   score     W1  W2  W3  W4  W5  W6  W7\n0      3  Nokia   0   0   0   1   1   3\n1      4  Nokia   1   0   1   0   1   5\n2      4  Nokia   0   1   1   0   0   7\n3      4   Bird   1   1   0   1   0   3\n4      3   Bird   0   0   0   0   1   5",
      "text/html": "<div>\n<style scoped>\n    .dataframe tbody tr th:only-of-type {\n        vertical-align: middle;\n    }\n\n    .dataframe tbody tr th {\n        vertical-align: top;\n    }\n\n    .dataframe thead th {\n        text-align: right;\n    }\n</style>\n<table border=\"1\" class=\"dataframe\">\n  <thead>\n    <tr style=\"text-align: right;\">\n      <th></th>\n      <th>score</th>\n      <th>W1</th>\n      <th>W2</th>\n      <th>W3</th>\n      <th>W4</th>\n      <th>W5</th>\n      <th>W6</th>\n      <th>W7</th>\n    </tr>\n  </thead>\n  <tbody>\n    <tr>\n      <th>0</th>\n      <td>3</td>\n      <td>Nokia</td>\n      <td>0</td>\n      <td>0</td>\n      <td>0</td>\n      <td>1</td>\n      <td>1</td>\n      <td>3</td>\n    </tr>\n    <tr>\n      <th>1</th>\n      <td>4</td>\n      <td>Nokia</td>\n      <td>1</td>\n      <td>0</td>\n      <td>1</td>\n      <td>0</td>\n      <td>1</td>\n      <td>5</td>\n    </tr>\n    <tr>\n      <th>2</th>\n      <td>4</td>\n      <td>Nokia</td>\n      <td>0</td>\n      <td>1</td>\n      <td>1</td>\n      <td>0</td>\n      <td>0</td>\n      <td>7</td>\n    </tr>\n    <tr>\n      <th>3</th>\n      <td>4</td>\n      <td>Bird</td>\n      <td>1</td>\n      <td>1</td>\n      <td>0</td>\n      <td>1</td>\n      <td>0</td>\n      <td>3</td>\n    </tr>\n    <tr>\n      <th>4</th>\n      <td>3</td>\n      <td>Bird</td>\n      <td>0</td>\n      <td>0</td>\n      <td>0</td>\n      <td>0</td>\n      <td>1</td>\n      <td>5</td>\n    </tr>\n  </tbody>\n</table>\n</div>"
     },
     "metadata": {},
     "output_type": "execute_result",
     "execution_count": 3
    }
   ],
   "source": [
    "data.head()"
   ],
   "metadata": {
    "collapsed": false,
    "pycharm": {
     "name": "#%%\n",
     "is_executing": false
    }
   }
  },
  {
   "cell_type": "code",
   "execution_count": 5,
   "outputs": [
    {
     "name": "stdout",
     "text": [
      "W1     Bird  Motorola  Nokia  Samsung\nscore                                \n1        37        24     34       26\n2        80        64     53       66\n3        98       138    132      133\n4       109       108    116       96\n5        28        30     35       44\n"
     ],
     "output_type": "stream"
    }
   ],
   "source": [
    "w1_table = pd.crosstab(index=data['score'], columns=data['W1'], values=data['score'], aggfunc='count')\n",
    "print(w1_table)"
   ],
   "metadata": {
    "collapsed": false,
    "pycharm": {
     "name": "#%%\n",
     "is_executing": false
    }
   }
  },
  {
   "cell_type": "code",
   "execution_count": 25,
   "outputs": [
    {
     "data": {
      "text/plain": "Text(0.5, 1.0, 'Digital Camera')"
     },
     "metadata": {},
     "output_type": "execute_result",
     "execution_count": 25
    },
    {
     "data": {
      "text/plain": "<Figure size 432x288 with 1 Axes>",
      "image/png": "[encoded data removed]"
     },
     "metadata": {
      "needs_background": "light"
     },
     "output_type": "display_data"
    }
   ],
   "source": [
    "plt.plot(data.groupby('score')['W2'].mean(),'o-',color='black')\n",
    "plt.xticks(range(1,6,1))\n",
    "plt.yticks(np.arange(0,1,0.2))\n",
    "plt.xlabel('score')\n",
    "plt.ylabel('percentage')\n",
    "plt.title('Digital Camera')"
   ],
   "metadata": {
    "collapsed": false,
    "pycharm": {
     "name": "#%%\n",
     "is_executing": false
    }
   }
  },
  {
   "cell_type": "code",
   "execution_count": 45,
   "outputs": [
    {
     "data": {
      "text/plain": "[<matplotlib.lines.Line2D at 0x18c45e1ea58>]"
     },
     "metadata": {},
     "output_type": "execute_result",
     "execution_count": 45
    },
    {
     "data": {
      "text/plain": "<Figure size 432x288 with 4 Axes>",
      "image/png": "[encoded data removed]"
     },
     "metadata": {
      "needs_background": "light"
     },
     "output_type": "display_data"
    }
   ],
   "source": [
    "fig, ax = plt.subplots(2,2,sharex='all', sharey='all')\n",
    "ax[0][0].plot(data.groupby('score')['W3'].mean(),'o-',color='black')\n",
    "ax[0][0].set_ylim(0,1)\n",
    "ax[0][0].set_xlabel('score')\n",
    "ax[0][0].set_ylabel('percentage')\n",
    "ax[0][1].plot(data.groupby('score')['W4'].mean(),'o-',color='black')\n",
    "ax[1][0].plot(data.groupby('score')['W5'].mean(),'o-',color='black')\n",
    "ax[1][1].plot(data.groupby('score')['W6'].mean(),'o-',color='black')\n"
   ],
   "metadata": {
    "collapsed": false,
    "pycharm": {
     "name": "#%%\n",
     "is_executing": false
    }
   }
  },
  {
   "cell_type": "code",
   "execution_count": 46,
   "outputs": [
    {
     "name": "stdout",
     "text": [
      "W7       3    5    7\nscore               \n1       25   67   29\n2       71  113   79\n3      169  187  145\n4      155  111  163\n5       64    9   64\n"
     ],
     "output_type": "stream"
    }
   ],
   "source": [
    "w7_table = pd.crosstab(index=data['score'], columns=data['W7'], values=data['score'], aggfunc='count')\n",
    "print(w7_table)"
   ],
   "metadata": {
    "collapsed": false,
    "pycharm": {
     "name": "#%%\n",
     "is_executing": false
    }
   }
  },
  {
   "cell_type": "code",
   "execution_count": 7,
   "outputs": [
    {
     "data": {
      "text/plain": "   year       ARA      ASSET     ATO    GROWTH       LEV       ROA  SHARE  ST\n0  1999  0.192310  19.856048  0.0052 -0.950727  0.445880  0.087710  26.89   0\n1  1999  0.220120  20.910863  0.0056 -0.942656  0.398686  0.016820  39.62   0\n2  1999  0.325292  19.352623  0.0166 -0.937440  0.303348  0.042468  26.46   0\n3  1999  0.025729  21.438928  0.0028 -0.852995  0.758250  0.018152  60.16   0\n4  1999  0.533591  21.613339  0.2552 -0.816704  0.726875  0.004147  54.24   1",
      "text/html": "<div>\n<style scoped>\n    .dataframe tbody tr th:only-of-type {\n        vertical-align: middle;\n    }\n\n    .dataframe tbody tr th {\n        vertical-align: top;\n    }\n\n    .dataframe thead th {\n        text-align: right;\n    }\n</style>\n<table border=\"1\" class=\"dataframe\">\n  <thead>\n    <tr style=\"text-align: right;\">\n      <th></th>\n      <th>year</th>\n      <th>ARA</th>\n      <th>ASSET</th>\n      <th>ATO</th>\n      <th>GROWTH</th>\n      <th>LEV</th>\n      <th>ROA</th>\n      <th>SHARE</th>\n      <th>ST</th>\n    </tr>\n  </thead>\n  <tbody>\n    <tr>\n      <th>0</th>\n      <td>1999</td>\n      <td>0.192310</td>\n      <td>19.856048</td>\n      <td>0.0052</td>\n      <td>-0.950727</td>\n      <td>0.445880</td>\n      <td>0.087710</td>\n      <td>26.89</td>\n      <td>0</td>\n    </tr>\n    <tr>\n      <th>1</th>\n      <td>1999</td>\n      <td>0.220120</td>\n      <td>20.910863</td>\n      <td>0.0056</td>\n      <td>-0.942656</td>\n      <td>0.398686</td>\n      <td>0.016820</td>\n      <td>39.62</td>\n      <td>0</td>\n    </tr>\n    <tr>\n      <th>2</th>\n      <td>1999</td>\n      <td>0.325292</td>\n      <td>19.352623</td>\n      <td>0.0166</td>\n      <td>-0.937440</td>\n      <td>0.303348</td>\n      <td>0.042468</td>\n      <td>26.46</td>\n      <td>0</td>\n    </tr>\n    <tr>\n      <th>3</th>\n      <td>1999</td>\n      <td>0.025729</td>\n      <td>21.438928</td>\n      <td>0.0028</td>\n      <td>-0.852995</td>\n      <td>0.758250</td>\n      <td>0.018152</td>\n      <td>60.16</td>\n      <td>0</td>\n    </tr>\n    <tr>\n      <th>4</th>\n      <td>1999</td>\n      <td>0.533591</td>\n      <td>21.613339</td>\n      <td>0.2552</td>\n      <td>-0.816704</td>\n      <td>0.726875</td>\n      <td>0.004147</td>\n      <td>54.24</td>\n      <td>1</td>\n    </tr>\n  </tbody>\n</table>\n</div>"
     },
     "metadata": {},
     "output_type": "execute_result",
     "execution_count": 7
    }
   ],
   "source": [
    "# 查看数据\n",
    "data.head()"
   ],
   "metadata": {
    "collapsed": false,
    "pycharm": {
     "name": "#%%\n",
     "is_executing": false
    }
   }
  },
  {
   "cell_type": "code",
   "execution_count": 8,
   "outputs": [
    {
     "data": {
      "text/plain": "<matplotlib.axes._subplots.AxesSubplot at 0x2d4dae510f0>"
     },
     "metadata": {},
     "output_type": "execute_result",
     "execution_count": 8
    },
    {
     "data": {
      "text/plain": "<Figure size 432x288 with 1 Axes>",
      "image/png": "[encoded data removed]"
     },
     "metadata": {
      "needs_background": "light"
     },
     "output_type": "display_data"
    }
   ],
   "source": [
    "sns.boxplot(data1999['ST'], data1999['ARA'],color='white')"
   ],
   "metadata": {
    "collapsed": false,
    "pycharm": {
     "name": "#%%\n",
     "is_executing": false
    }
   }
  },
  {
   "cell_type": "code",
   "execution_count": 9,
   "outputs": [
    {
     "data": {
      "text/plain": "<Figure size 576x432 with 6 Axes>",
      "image/png": "[encoded data removed]"
     },
     "metadata": {
      "needs_background": "light"
     },
     "output_type": "display_data"
    }
   ],
   "source": [
    "matplotlib.rcParams['font.sans-serif'] = ['SimHei']  # 为了画图能够显示中文，否则中文会变成乱码。\n",
    "plt.rcParams['axes.unicode_minus']=False\n",
    "\n",
    "fig = plt.figure(figsize=(8, 6))\n",
    "sns.boxplot(data1999['ST'], data1999['ASSET'], color='white', \n",
    "            ax=plt.subplot(3,2,1))  # 设置3×2的画布，选定第1副子图，即第一行第一个。下同\n",
    "sns.boxplot(data1999['ST'], data1999['ATO'], color='white', ax=plt.subplot(3,2,2))\n",
    "sns.boxplot(data1999['ST'], data1999['GROWTH'], color='white', ax=plt.subplot(3,2,3))\n",
    "sns.boxplot(data1999['ST'], data1999['LEV'], color='white',ax=plt.subplot(3,2,4))\n",
    "sns.boxplot(data1999['ST'], data1999['ROA'], color='white',ax=plt.subplot(3,2,5))\n",
    "sns.boxplot(data1999['ST'], data1999['SHARE'], color='white',ax=plt.subplot(3,2,6))\n",
    "fig.tight_layout()"
   ],
   "metadata": {
    "collapsed": false,
    "pycharm": {
     "name": "#%%\n",
     "is_executing": false
    }
   }
  },
  {
   "cell_type": "code",
   "execution_count": 10,
   "outputs": [
    {
     "name": "stdout",
     "text": [
      "Optimization terminated successfully.\n         Current function value: 0.183849\n         Iterations 8\n                           Logit Regression Results                           \n==============================================================================\nDep. Variable:                     ST   No. Observations:                  684\nModel:                          Logit   Df Residuals:                      676\nMethod:                           MLE   Df Model:                            7\nDate:                Tue, 21 Jan 2020   Pseudo R-squ.:                  0.1084\nTime:                        10:02:26   Log-Likelihood:                -125.75\nconverged:                       True   LL-Null:                       -141.04\n                                        LLR p-value:                 7.477e-05\n==============================================================================\n                 coef    std err          z      P>|z|      [0.025      0.975]\n------------------------------------------------------------------------------\nIntercept     -8.8692      4.636     -1.913      0.056     -17.955       0.217\nARA            4.8797      1.492      3.270      0.001       1.955       7.805\nASSET          0.2466      0.224      1.100      0.271      -0.193       0.686\nATO           -0.5074      0.657     -0.772      0.440      -1.796       0.781\nGROWTH        -0.8333      0.567     -1.470      0.142      -1.945       0.278\nLEV            2.3542      1.201      1.960      0.050      -0.001       4.709\nROA           -0.6366      6.224     -0.102      0.919     -12.835      11.562\nSHARE         -0.0111      0.011     -0.997      0.319      -0.033       0.011\n==============================================================================\n"
     ],
     "output_type": "stream"
    }
   ],
   "source": [
    "logit1 = smf.logit('ST ~ ARA + ASSET + ATO + GROWTH + '\n",
    "                   'LEV + ROA + SHARE', data1999).fit()\n",
    "\n",
    "print(logit1.summary())"
   ],
   "metadata": {
    "collapsed": false,
    "pycharm": {
     "name": "#%%\n",
     "is_executing": false
    }
   }
  },
  {
   "cell_type": "code",
   "execution_count": 11,
   "outputs": [
    {
     "name": "stdout",
     "text": [
      "Optimization terminated successfully.\n         Current function value: 0.183018\n         Iterations 7\n                          Probit Regression Results                           \n==============================================================================\nDep. Variable:                     ST   No. Observations:                  684\nModel:                         Probit   Df Residuals:                      676\nMethod:                           MLE   Df Model:                            7\nDate:                Tue, 21 Jan 2020   Pseudo R-squ.:                  0.1124\nTime:                        10:02:27   Log-Likelihood:                -125.18\nconverged:                       True   LL-Null:                       -141.04\n                                        LLR p-value:                 4.612e-05\n==============================================================================\n                 coef    std err          z      P>|z|      [0.025      0.975]\n------------------------------------------------------------------------------\nIntercept     -4.9545      2.210     -2.242      0.025      -9.286      -0.623\nARA            2.6467      0.767      3.450      0.001       1.143       4.150\nASSET          0.1354      0.107      1.263      0.207      -0.075       0.346\nATO           -0.2329      0.306     -0.761      0.447      -0.833       0.367\nGROWTH        -0.4733      0.274     -1.727      0.084      -1.010       0.064\nLEV            1.1952      0.590      2.025      0.043       0.038       2.352\nROA            0.6696      2.504      0.267      0.789      -4.239       5.578\nSHARE         -0.0050      0.005     -0.959      0.337      -0.015       0.005\n==============================================================================\n"
     ],
     "output_type": "stream"
    }
   ],
   "source": [
    "probit1 = smf.probit('ST ~ ARA + ASSET + ATO + GROWTH + '\n",
    "                   'LEV + ROA + SHARE', data1999).fit()\n",
    "\n",
    "print(probit1.summary())"
   ],
   "metadata": {
    "collapsed": false,
    "pycharm": {
     "name": "#%%\n",
     "is_executing": false
    }
   }
  },
  {
   "cell_type": "code",
   "execution_count": 12,
   "outputs": [
    {
     "name": "stdout",
     "text": [
      "Optimization terminated successfully.\n         Current function value: 0.185699\n         Iterations 8\n                           Logit Regression Results                           \n==============================================================================\nDep. Variable:                     ST   No. Observations:                  684\nModel:                          Logit   Df Residuals:                      680\nMethod:                           MLE   Df Model:                            3\nDate:                Tue, 21 Jan 2020   Pseudo R-squ.:                 0.09939\nTime:                        10:02:27   Log-Likelihood:                -127.02\nconverged:                       True   LL-Null:                       -141.04\n                                        LLR p-value:                 3.572e-06\n==============================================================================\n                 coef    std err          z      P>|z|      [0.025      0.975]\n------------------------------------------------------------------------------\nIntercept     -4.6022      0.565     -8.152      0.000      -5.709      -3.496\nARA            5.1301      1.434      3.577      0.000       2.319       7.941\nGROWTH        -0.9061      0.547     -1.656      0.098      -1.978       0.166\nLEV            2.5501      1.078      2.366      0.018       0.438       4.663\n==============================================================================\n"
     ],
     "output_type": "stream"
    }
   ],
   "source": [
    "logit2 = smf.logit('ST ~ ARA + GROWTH + LEV', data1999).fit()\n",
    "\n",
    "print(logit2.summary())"
   ],
   "metadata": {
    "collapsed": false,
    "pycharm": {
     "name": "#%%\n",
     "is_executing": false
    }
   }
  },
  {
   "cell_type": "code",
   "execution_count": 13,
   "outputs": [
    {
     "name": "stdout",
     "text": [
      "Optimization terminated successfully.\n         Current function value: 0.184984\n         Iterations 7\n                          Probit Regression Results                           \n==============================================================================\nDep. Variable:                     ST   No. Observations:                  684\nModel:                         Probit   Df Residuals:                      680\nMethod:                           MLE   Df Model:                            3\nDate:                Tue, 21 Jan 2020   Pseudo R-squ.:                  0.1029\nTime:                        10:02:28   Log-Likelihood:                -126.53\nconverged:                       True   LL-Null:                       -141.04\n                                        LLR p-value:                 2.226e-06\n==============================================================================\n                 coef    std err          z      P>|z|      [0.025      0.975]\n------------------------------------------------------------------------------\nIntercept     -2.4468      0.262     -9.342      0.000      -2.960      -1.933\nARA            2.7331      0.725      3.771      0.000       1.312       4.154\nGROWTH        -0.4713      0.258     -1.826      0.068      -0.977       0.035\nLEV            1.2059      0.514      2.346      0.019       0.198       2.213\n==============================================================================\n"
     ],
     "output_type": "stream"
    }
   ],
   "source": [
    "probit2 = smf.probit('ST ~ ARA + GROWTH + LEV', data1999).fit()\n",
    "\n",
    "print(probit2.summary())"
   ],
   "metadata": {
    "collapsed": false,
    "pycharm": {
     "name": "#%%\n",
     "is_executing": false
    }
   }
  },
  {
   "cell_type": "code",
   "execution_count": 14,
   "outputs": [],
   "source": [
    "prob_logit = logit1.predict(exog = data2000)"
   ],
   "metadata": {
    "collapsed": false,
    "pycharm": {
     "name": "#%%\n",
     "is_executing": false
    }
   }
  },
  {
   "cell_type": "code",
   "execution_count": 15,
   "outputs": [
    {
     "name": "stdout",
     "text": [
      "     0  1\n0  699  0\n1   47  0\n"
     ],
     "output_type": "stream"
    }
   ],
   "source": [
    "matrix_logit_1 = metrics.confusion_matrix(data2000['ST'], np.where(prob_logit > 0.5, 1, 0), labels=[0,1])\n",
    "print(pd.DataFrame(matrix_logit_1))"
   ],
   "metadata": {
    "collapsed": false,
    "pycharm": {
     "name": "#%%\n",
     "is_executing": false
    }
   }
  },
  {
   "cell_type": "code",
   "execution_count": 16,
   "outputs": [
    {
     "name": "stdout",
     "text": [
      "   0    1\n0  0  699\n1  0   47\n"
     ],
     "output_type": "stream"
    }
   ],
   "source": [
    "matrix_logit_2 = metrics.confusion_matrix(data2000['ST'], np.where(prob_logit > 0, 1, 0), labels=[0,1])\n",
    "print(pd.DataFrame(matrix_logit_2))"
   ],
   "metadata": {
    "collapsed": false,
    "pycharm": {
     "name": "#%%\n",
     "is_executing": false
    }
   }
  },
  {
   "cell_type": "code",
   "execution_count": 17,
   "outputs": [
    {
     "name": "stdout",
     "text": [
      "     0    1\n0  504  195\n1   18   29\n"
     ],
     "output_type": "stream"
    }
   ],
   "source": [
    "matrix_logit_3 = metrics.confusion_matrix(data2000['ST'], np.where(prob_logit > 0.05, 1, 0), labels=[0,1])\n",
    "print(pd.DataFrame(matrix_logit_3))\n"
   ],
   "metadata": {
    "collapsed": false,
    "pycharm": {
     "name": "#%%\n",
     "is_executing": false
    }
   }
  },
  {
   "cell_type": "code",
   "execution_count": null,
   "outputs": [],
   "source": [
    "# 计算模型的准确率\n",
    "accuracy = cm.diagonal().sum()/cm.sum()\n",
    "accuracy"
   ],
   "metadata": {
    "collapsed": false,
    "pycharm": {
     "name": "#%%\n"
    }
   }
  },
  {
   "cell_type": "code",
   "execution_count": 18,
   "outputs": [],
   "source": [
    "# 绘制ROC曲线\n",
    "fpr, tpr, _ = metrics.roc_curve(data2000['ST'], np.where(prob_logit > 0.05, 1, 0))\n",
    "df = pd.DataFrame(dict(fpr=fpr, tpr=tpr))"
   ],
   "metadata": {
    "collapsed": false,
    "pycharm": {
     "name": "#%%\n",
     "is_executing": false
    }
   }
  },
  {
   "cell_type": "code",
   "execution_count": 24,
   "outputs": [],
   "source": [
    "pred = np.array(np.arange(0,1,0.01))"
   ],
   "metadata": {
    "collapsed": false,
    "pycharm": {
     "name": "#%%\n",
     "is_executing": false
    }
   }
  },
  {
   "cell_type": "code",
   "execution_count": 26,
   "outputs": [
    {
     "traceback": [
      "\u001b[1;31m---------------------------------------------------------------------------\u001b[0m",
      "\u001b[1;31mValueError\u001b[0m                                Traceback (most recent call last)",
      "\u001b[1;32m<ipython-input-26-4f6519369254>\u001b[0m in \u001b[0;36m<module>\u001b[1;34m\u001b[0m\n\u001b[1;32m----> 1\u001b[1;33m \u001b[0mfpr\u001b[0m\u001b[1;33m,\u001b[0m\u001b[0mtpr\u001b[0m\u001b[1;33m,\u001b[0m\u001b[0mthreshold\u001b[0m \u001b[1;33m=\u001b[0m \u001b[0mmetrics\u001b[0m\u001b[1;33m.\u001b[0m\u001b[0mroc_curve\u001b[0m\u001b[1;33m(\u001b[0m\u001b[0mdata2000\u001b[0m\u001b[1;33m[\u001b[0m\u001b[1;34m'ST'\u001b[0m\u001b[1;33m]\u001b[0m\u001b[1;33m,\u001b[0m \u001b[0mpred\u001b[0m\u001b[1;33m)\u001b[0m \u001b[1;31m###计算真正率和假正率\u001b[0m\u001b[1;33m\u001b[0m\u001b[1;33m\u001b[0m\u001b[0m\n\u001b[0m\u001b[0;32m      2\u001b[0m \u001b[0mroc_auc\u001b[0m \u001b[1;33m=\u001b[0m \u001b[0mmetrics\u001b[0m\u001b[1;33m.\u001b[0m\u001b[0mauc\u001b[0m\u001b[1;33m(\u001b[0m\u001b[0mfpr\u001b[0m\u001b[1;33m,\u001b[0m\u001b[0mtpr\u001b[0m\u001b[1;33m)\u001b[0m\u001b[1;33m\u001b[0m\u001b[1;33m\u001b[0m\u001b[0m\n\u001b[0;32m      3\u001b[0m \u001b[1;33m\u001b[0m\u001b[0m\n\u001b[0;32m      4\u001b[0m \u001b[0mplt\u001b[0m\u001b[1;33m.\u001b[0m\u001b[0mfigure\u001b[0m\u001b[1;33m(\u001b[0m\u001b[1;33m)\u001b[0m\u001b[1;33m\u001b[0m\u001b[1;33m\u001b[0m\u001b[0m\n\u001b[0;32m      5\u001b[0m \u001b[0mlw\u001b[0m \u001b[1;33m=\u001b[0m \u001b[1;36m2\u001b[0m\u001b[1;33m\u001b[0m\u001b[1;33m\u001b[0m\u001b[0m\n",
      "\u001b[1;32mD:\\Anaconda\\lib\\site-packages\\sklearn\\metrics\\ranking.py\u001b[0m in \u001b[0;36mroc_curve\u001b[1;34m(y_true, y_score, pos_label, sample_weight, drop_intermediate)\u001b[0m\n\u001b[0;32m    620\u001b[0m     \"\"\"\n\u001b[0;32m    621\u001b[0m     fps, tps, thresholds = _binary_clf_curve(\n\u001b[1;32m--> 622\u001b[1;33m         y_true, y_score, pos_label=pos_label, sample_weight=sample_weight)\n\u001b[0m\u001b[0;32m    623\u001b[0m \u001b[1;33m\u001b[0m\u001b[0m\n\u001b[0;32m    624\u001b[0m     \u001b[1;31m# Attempt to drop thresholds corresponding to points in between and\u001b[0m\u001b[1;33m\u001b[0m\u001b[1;33m\u001b[0m\u001b[1;33m\u001b[0m\u001b[0m\n",
      "\u001b[1;32mD:\\Anaconda\\lib\\site-packages\\sklearn\\metrics\\ranking.py\u001b[0m in \u001b[0;36m_binary_clf_curve\u001b[1;34m(y_true, y_score, pos_label, sample_weight)\u001b[0m\n\u001b[0;32m    396\u001b[0m         \u001b[1;32mraise\u001b[0m \u001b[0mValueError\u001b[0m\u001b[1;33m(\u001b[0m\u001b[1;34m\"{0} format is not supported\"\u001b[0m\u001b[1;33m.\u001b[0m\u001b[0mformat\u001b[0m\u001b[1;33m(\u001b[0m\u001b[0my_type\u001b[0m\u001b[1;33m)\u001b[0m\u001b[1;33m)\u001b[0m\u001b[1;33m\u001b[0m\u001b[1;33m\u001b[0m\u001b[0m\n\u001b[0;32m    397\u001b[0m \u001b[1;33m\u001b[0m\u001b[0m\n\u001b[1;32m--> 398\u001b[1;33m     \u001b[0mcheck_consistent_length\u001b[0m\u001b[1;33m(\u001b[0m\u001b[0my_true\u001b[0m\u001b[1;33m,\u001b[0m \u001b[0my_score\u001b[0m\u001b[1;33m,\u001b[0m \u001b[0msample_weight\u001b[0m\u001b[1;33m)\u001b[0m\u001b[1;33m\u001b[0m\u001b[1;33m\u001b[0m\u001b[0m\n\u001b[0m\u001b[0;32m    399\u001b[0m     \u001b[0my_true\u001b[0m \u001b[1;33m=\u001b[0m \u001b[0mcolumn_or_1d\u001b[0m\u001b[1;33m(\u001b[0m\u001b[0my_true\u001b[0m\u001b[1;33m)\u001b[0m\u001b[1;33m\u001b[0m\u001b[1;33m\u001b[0m\u001b[0m\n\u001b[0;32m    400\u001b[0m     \u001b[0my_score\u001b[0m \u001b[1;33m=\u001b[0m \u001b[0mcolumn_or_1d\u001b[0m\u001b[1;33m(\u001b[0m\u001b[0my_score\u001b[0m\u001b[1;33m)\u001b[0m\u001b[1;33m\u001b[0m\u001b[1;33m\u001b[0m\u001b[0m\n",
      "\u001b[1;32mD:\\Anaconda\\lib\\site-packages\\sklearn\\utils\\validation.py\u001b[0m in \u001b[0;36mcheck_consistent_length\u001b[1;34m(*arrays)\u001b[0m\n\u001b[0;32m    203\u001b[0m     \u001b[1;32mif\u001b[0m \u001b[0mlen\u001b[0m\u001b[1;33m(\u001b[0m\u001b[0muniques\u001b[0m\u001b[1;33m)\u001b[0m \u001b[1;33m>\u001b[0m \u001b[1;36m1\u001b[0m\u001b[1;33m:\u001b[0m\u001b[1;33m\u001b[0m\u001b[1;33m\u001b[0m\u001b[0m\n\u001b[0;32m    204\u001b[0m         raise ValueError(\"Found input variables with inconsistent numbers of\"\n\u001b[1;32m--> 205\u001b[1;33m                          \" samples: %r\" % [int(l) for l in lengths])\n\u001b[0m\u001b[0;32m    206\u001b[0m \u001b[1;33m\u001b[0m\u001b[0m\n\u001b[0;32m    207\u001b[0m \u001b[1;33m\u001b[0m\u001b[0m\n",
      "\u001b[1;31mValueError\u001b[0m: Found input variables with inconsistent numbers of samples: [746, 100]"
     ],
     "ename": "ValueError",
     "evalue": "Found input variables with inconsistent numbers of samples: [746, 100]",
     "output_type": "error"
    }
   ],
   "source": [
    "from sklearn.metrics import roc_curve, auc\n",
    "import matplotlib as mpl  \n",
    "import matplotlib.pyplot as plt\n",
    "\n",
    "plt.figure(figsize=(15, 10))\n",
    "def plot_roc(labels, predict_probs, titles):\n",
    "    color = ['r', 'g', 'b', 'y']                                                                 \n",
    "    shape = ['o', 'v', '^']   \n",
    "    \n",
    "    for idx, predict_prob in enumerate(predict_probs):\n",
    "        false_positive_rate,true_positive_rate,thresholds=roc_curve(labels, predict_prob)\n",
    "        roc_auc=auc(false_positive_rate, true_positive_rate)\n",
    "        plt.title('ROC')\n",
    "        c = color[idx%len(color)]                                                                     \n",
    "        s = shape[idx%len(shape)]\n",
    "        plt.plot(false_positive_rate, true_positive_rate,'b',label='AUC K:{} = {:.4}'.format(titles[idx], roc_auc), color=c, marker=s, markevery=20)  \n",
    "        plt.legend(loc='lower right')\n",
    "        plt.plot([0,1],[0,1],'r--')\n",
    "        plt.ylabel('TPR')\n",
    "        plt.xlabel('FPR')\n",
    "plot_roc(pca_test_label, predict_probs)"
   ],
   "metadata": {
    "collapsed": false,
    "pycharm": {
     "name": "#%%\n",
     "is_executing": false
    }
   }
  },
  {
   "cell_type": "code",
   "execution_count": null,
   "outputs": [],
   "source": [
    "\n"
   ],
   "metadata": {
    "collapsed": false,
    "pycharm": {
     "name": "#%%\n"
    }
   }
  }
 ],
 "metadata": {
  "kernelspec": {
   "display_name": "Python 3",
   "language": "python",
   "name": "python3"
  },
  "language_info": {
   "codemirror_mode": {
    "name": "ipython",
    "version": 2
   },
   "file_extension": ".py",
   "mimetype": "text/x-python",
   "name": "python",
   "nbconvert_exporter": "python",
   "pygments_lexer": "ipython2",
   "version": "2.7.6"
  },
  "pycharm": {
   "stem_cell": {
    "cell_type": "raw",
    "source": [],
    "metadata": {
     "collapsed": false
    }
   }
  }
 },
 "nbformat": 4,
 "nbformat_minor": 0
}