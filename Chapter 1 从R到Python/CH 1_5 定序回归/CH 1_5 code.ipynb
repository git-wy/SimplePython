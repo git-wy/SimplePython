{
 "cells": [
  {
   "cell_type": "markdown",
   "source": [
    "# Chapter 1_5 定序回归\n",
    "----\n",
    "Author: W.Y.  \n",
    "Date: 2020/1/16  \n",
    "Update: 2020/2/5  \n",
    "Info: 王汉生老师书的第五章，定序回归的python极简实现  \n",
    "\n",
    "----"
   ],
   "metadata": {
    "collapsed": false
   }
  },
  {
   "cell_type": "code",
   "execution_count": 22,
   "outputs": [],
   "source": [
    "# 导入模块\n",
    "import pandas as pd\n",
    "import numpy as np\n",
    "import matplotlib.pyplot as plt   \n",
    "import linear_ordinal_regression as ordinal"
   ],
   "metadata": {
    "collapsed": false,
    "pycharm": {
     "name": "#%%\n",
     "is_executing": false
    }
   }
  },
  {
   "cell_type": "markdown",
   "source": [
    "需要的包[参考](https://github.com/Shopify/bevel/blob/master/requirements.txt)\n",
    "\n",
    ">numpy>=1.13.3  \n",
    ">scipy>=1.0.0  \n",
    ">pandas>=0.21.0  \n",
    ">numdifftools>=0.9.20\n",
    "\n",
    "[来源](https://github.com/Shopify/bevel)"
   ],
   "metadata": {
    "collapsed": false,
    "pycharm": {
     "name": "#%% md\n"
    }
   }
  },
  {
   "cell_type": "code",
   "execution_count": 2,
   "outputs": [],
   "source": [
    "# 导入数据\n",
    "\n",
    "data = pd.read_csv('E:/Data Mining/SimplePython/Chapter 1 从R到Python/CH 1_5 定序回归/CH 1_5 data ceilphone.csv')"
   ],
   "metadata": {
    "collapsed": false,
    "pycharm": {
     "name": "#%%\n",
     "is_executing": false
    }
   }
  },
  {
   "cell_type": "code",
   "execution_count": 3,
   "outputs": [
    {
     "data": {
      "text/plain": "   score     W1  W2  W3  W4  W5  W6  W7\n0      3  Nokia   0   0   0   1   1   3\n1      4  Nokia   1   0   1   0   1   5\n2      4  Nokia   0   1   1   0   0   7\n3      4   Bird   1   1   0   1   0   3\n4      3   Bird   0   0   0   0   1   5",
      "text/html": "<div>\n<style scoped>\n    .dataframe tbody tr th:only-of-type {\n        vertical-align: middle;\n    }\n\n    .dataframe tbody tr th {\n        vertical-align: top;\n    }\n\n    .dataframe thead th {\n        text-align: right;\n    }\n</style>\n<table border=\"1\" class=\"dataframe\">\n  <thead>\n    <tr style=\"text-align: right;\">\n      <th></th>\n      <th>score</th>\n      <th>W1</th>\n      <th>W2</th>\n      <th>W3</th>\n      <th>W4</th>\n      <th>W5</th>\n      <th>W6</th>\n      <th>W7</th>\n    </tr>\n  </thead>\n  <tbody>\n    <tr>\n      <th>0</th>\n      <td>3</td>\n      <td>Nokia</td>\n      <td>0</td>\n      <td>0</td>\n      <td>0</td>\n      <td>1</td>\n      <td>1</td>\n      <td>3</td>\n    </tr>\n    <tr>\n      <th>1</th>\n      <td>4</td>\n      <td>Nokia</td>\n      <td>1</td>\n      <td>0</td>\n      <td>1</td>\n      <td>0</td>\n      <td>1</td>\n      <td>5</td>\n    </tr>\n    <tr>\n      <th>2</th>\n      <td>4</td>\n      <td>Nokia</td>\n      <td>0</td>\n      <td>1</td>\n      <td>1</td>\n      <td>0</td>\n      <td>0</td>\n      <td>7</td>\n    </tr>\n    <tr>\n      <th>3</th>\n      <td>4</td>\n      <td>Bird</td>\n      <td>1</td>\n      <td>1</td>\n      <td>0</td>\n      <td>1</td>\n      <td>0</td>\n      <td>3</td>\n    </tr>\n    <tr>\n      <th>4</th>\n      <td>3</td>\n      <td>Bird</td>\n      <td>0</td>\n      <td>0</td>\n      <td>0</td>\n      <td>0</td>\n      <td>1</td>\n      <td>5</td>\n    </tr>\n  </tbody>\n</table>\n</div>"
     },
     "metadata": {},
     "output_type": "execute_result",
     "execution_count": 3
    }
   ],
   "source": [
    "data.head()"
   ],
   "metadata": {
    "collapsed": false,
    "pycharm": {
     "name": "#%%\n",
     "is_executing": false
    }
   }
  },
  {
   "cell_type": "code",
   "execution_count": 4,
   "outputs": [
    {
     "name": "stdout",
     "text": [
      "W1     Bird  Motorola  Nokia  Samsung\n",
      "score                                \n",
      "1        37        24     34       26\n",
      "2        80        64     53       66\n",
      "3        98       138    132      133\n",
      "4       109       108    116       96\n",
      "5        28        30     35       44\n"
     ],
     "output_type": "stream"
    }
   ],
   "source": [
    "w1_table = pd.crosstab(index=data['score'], columns=data['W1'], values=data['score'], aggfunc='count')\n",
    "print(w1_table)"
   ],
   "metadata": {
    "collapsed": false,
    "pycharm": {
     "name": "#%%\n",
     "is_executing": false
    }
   }
  },
  {
   "cell_type": "code",
   "execution_count": 5,
   "outputs": [
    {
     "data": {
      "text/plain": "Text(0.5, 1.0, 'Digital Camera')"
     },
     "metadata": {},
     "output_type": "execute_result",
     "execution_count": 5
    },
    {
     "data": {
      "text/plain": "<Figure size 432x288 with 1 Axes>",
      "image/png": "[encoded data removed]"
     },
     "metadata": {
      "needs_background": "light"
     },
     "output_type": "display_data"
    }
   ],
   "source": [
    "plt.plot(data.groupby('score')['W2'].mean(),'o-',color='black')\n",
    "plt.xticks(range(1,6,1))\n",
    "plt.yticks(np.arange(0,1,0.2))\n",
    "plt.xlabel('score')\n",
    "plt.ylabel('percentage')\n",
    "plt.title('Digital Camera')"
   ],
   "metadata": {
    "collapsed": false,
    "pycharm": {
     "name": "#%%\n",
     "is_executing": false
    }
   }
  },
  {
   "cell_type": "code",
   "execution_count": 15,
   "outputs": [
    {
     "data": {
      "text/plain": "[<matplotlib.lines.Line2D at 0x1f769055e10>]"
     },
     "metadata": {},
     "output_type": "execute_result",
     "execution_count": 15
    },
    {
     "data": {
      "text/plain": "<Figure size 432x288 with 4 Axes>",
      "image/png": "[encoded data removed]"
     },
     "metadata": {
      "needs_background": "light"
     },
     "output_type": "display_data"
    }
   ],
   "source": [
    "fig, ax = plt.subplots(2,2,sharex='all', sharey='all')\n",
    "ax[0][0].plot(data.groupby('score')['W3'].mean(),'o-',color='black')\n",
    "ax[0][0].set_ylim(0,1)\n",
    "ax[0][0].set_xlabel('score')\n",
    "ax[0][0].set_ylabel('percentage')\n",
    "ax[0][0].set_title('Television')\n",
    "ax[0][1].plot(data.groupby('score')['W4'].mean(),'o-',color='black')\n",
    "ax[1][0].plot(data.groupby('score')['W5'].mean(),'o-',color='black')\n",
    "ax[1][1].plot(data.groupby('score')['W6'].mean(),'o-',color='black')"
   ],
   "metadata": {
    "collapsed": false,
    "pycharm": {
     "name": "#%%\n",
     "is_executing": false
    }
   }
  },
  {
   "cell_type": "code",
   "execution_count": 16,
   "outputs": [
    {
     "name": "stdout",
     "text": [
      "W7       3    5    7\n",
      "score               \n",
      "1       25   67   29\n",
      "2       71  113   79\n",
      "3      169  187  145\n",
      "4      155  111  163\n",
      "5       64    9   64\n"
     ],
     "output_type": "stream"
    }
   ],
   "source": [
    "w7_table = pd.crosstab(index=data['score'], columns=data['W7'], values=data['score'], aggfunc='count')\n",
    "print(w7_table)"
   ],
   "metadata": {
    "collapsed": false,
    "pycharm": {
     "name": "#%%\n",
     "is_executing": false
    }
   }
  },
  {
   "cell_type": "code",
   "execution_count": 31,
   "outputs": [],
   "source": [
    "data['W1_code'] = pd.Categorical(data['W1']).codes\n",
    "X = data.iloc[:,2:9]"
   ],
   "metadata": {
    "collapsed": false,
    "pycharm": {
     "name": "#%%\n",
     "is_executing": false
    }
   }
  },
  {
   "cell_type": "code",
   "execution_count": 35,
   "outputs": [
    {
     "name": "stdout",
     "text": [
      "n=1451\n",
      "                   beta  se(beta)      p  lower 0.95  upper 0.95     \n",
      "attribute names                                                      \n",
      "W2               0.3085    0.0557 0.0000      0.1993      0.4176  ***\n",
      "W3               0.2609    0.0605 0.0000      0.1422      0.3795  ***\n",
      "W4               0.2573    0.0609 0.0000      0.1379      0.3767  ***\n",
      "W5               0.8889    0.0628 0.0000      0.7658      1.0119  ***\n",
      "W6               0.1352    0.0618 0.0287      0.0141      0.2563    *\n",
      "W7              -0.0093    0.0174 0.5916     -0.0434      0.0248     \n",
      "W1_code          0.1085    0.0281 0.0001      0.0535      0.1635  ***\n",
      "---\n",
      "Signif. codes:  0 '***' 0.001 '**' 0.01 '*' 0.05 '.' 0.1 ' ' 1 \n",
      "\n",
      "Somers' D = 0.294\n",
      "None\n"
     ],
     "output_type": "stream"
    }
   ],
   "source": [
    "# probit\n",
    "\n",
    "probit1 = ordinal.OrderedProbit()\n",
    "probit1.fit(X, data['score'])\n",
    "print(probit1.print_summary())\n"
   ],
   "metadata": {
    "collapsed": false,
    "pycharm": {
     "name": "#%%\n",
     "is_executing": false
    }
   }
  }
 ],
 "metadata": {
  "kernelspec": {
   "display_name": "Python 3",
   "language": "python",
   "name": "python3"
  },
  "language_info": {
   "codemirror_mode": {
    "name": "ipython",
    "version": 2
   },
   "file_extension": ".py",
   "mimetype": "text/x-python",
   "name": "python",
   "nbconvert_exporter": "python",
   "pygments_lexer": "ipython2",
   "version": "2.7.6"
  },
  "pycharm": {
   "stem_cell": {
    "cell_type": "raw",
    "source": [],
    "metadata": {
     "collapsed": false
    }
   }
  }
 },
 "nbformat": 4,
 "nbformat_minor": 0
}