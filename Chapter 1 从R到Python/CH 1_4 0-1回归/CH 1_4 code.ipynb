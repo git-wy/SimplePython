{
 "cells": [
  {
   "cell_type": "markdown",
   "source": [
    "# Chapter 1_4 0-1回归\n",
    "----\n",
    "author: W.Y.  \n",
    "first_edition: 2020/1/16  \n",
    "last_edition: 2020/1/20  \n",
    "description: 王汉生老师书的第四章，0-1回归的python极简实现  \n",
    "\n",
    "----"
   ],
   "metadata": {
    "collapsed": false
   }
  },
  {
   "cell_type": "code",
   "execution_count": null,
   "outputs": [],
   "source": [
    "# 导入模块\n",
    "import pandas as pd\n",
    "import matplotlib.pyplot as plt  # 画图模块\n",
    "import matplotlib\n",
    "import seaborn as sns\n",
    "import statsmodels.formula.api as smf  \n",
    "import statsmodels.api as sma\n",
    "import lmdiag  "
   ],
   "metadata": {
    "collapsed": false,
    "pycharm": {
     "name": "#%%\n"
    }
   }
  },
  {
   "cell_type": "code",
   "execution_count": null,
   "outputs": [],
   "source": [
    "# 导入数据\n",
    "\n",
    "data = pd.read_csv('E:\\Data Mining\\SimplePython\\Chapter 1 从R到Python\\CH 1_4 0-1回归\\CH 1_4 data ST.csv')"
   ],
   "metadata": {
    "collapsed": false,
    "pycharm": {
     "name": "#%%\n"
    }
   }
  },
  {
   "cell_type": "code",
   "execution_count": null,
   "outputs": [],
   "source": [
    "# 数据分割\n",
    "\n",
    "data1999 = data[data['year'] == 1999]\n",
    "data2000 = data[data['year'] == 2000]"
   ],
   "metadata": {
    "collapsed": false,
    "pycharm": {
     "name": "#%%\n"
    }
   }
  },
  {
   "cell_type": "code",
   "execution_count": null,
   "outputs": [],
   "source": [
    "# 查看数据\n",
    "data.head()"
   ],
   "metadata": {
    "collapsed": false,
    "pycharm": {
     "name": "#%%\n"
    }
   }
  },
  {
   "cell_type": "code",
   "execution_count": null,
   "outputs": [],
   "source": [
    "sns.boxplot(data1999['ST'], data1999['ARA'],color='white')"
   ],
   "metadata": {
    "collapsed": false,
    "pycharm": {
     "name": "#%%\n"
    }
   }
  },
  {
   "cell_type": "code",
   "execution_count": null,
   "outputs": [],
   "source": [
    "matplotlib.rcParams['font.sans-serif'] = ['SimHei']  # 为了画图能够显示中文，否则中文会变成乱码。\n",
    "plt.rcParams['axes.unicode_minus']=False\n",
    "\n",
    "fig = plt.figure(figsize=(8, 6))\n",
    "sns.boxplot(data1999['ST'], data1999['ASSET'], color='white', \n",
    "            ax=plt.subplot(3,2,1))  # 设置3×2的画布，选定第1副子图，即第一行第一个。下同\n",
    "sns.boxplot(data1999['ST'], data1999['ATO'], color='white', ax=plt.subplot(3,2,2))\n",
    "sns.boxplot(data1999['ST'], data1999['GROWTH'], color='white', ax=plt.subplot(3,2,3))\n",
    "sns.boxplot(data1999['ST'], data1999['LEV'], color='white',ax=plt.subplot(3,2,4))\n",
    "sns.boxplot(data1999['ST'], data1999['ROA'], color='white',ax=plt.subplot(3,2,5))\n",
    "sns.boxplot(data1999['ST'], data1999['SHARE'], color='white',ax=plt.subplot(3,2,6))\n",
    "fig.tight_layout()"
   ],
   "metadata": {
    "collapsed": false,
    "pycharm": {
     "name": "#%%\n"
    }
   }
  },
  {
   "cell_type": "code",
   "execution_count": null,
   "outputs": [],
   "source": [
    "logit1 = smf.logit('ST ~ ARA + ASSET + ATO + GROWTH + '\n",
    "                   'LEV + ROA + SHARE', data1999).fit()\n",
    "\n",
    "print(logit1.summary())"
   ],
   "metadata": {
    "collapsed": false,
    "pycharm": {
     "name": "#%%\n"
    }
   }
  },
  {
   "cell_type": "code",
   "execution_count": null,
   "outputs": [],
   "source": [
    "probit1 = smf.probit('ST ~ ARA + ASSET + ATO + GROWTH + '\n",
    "                   'LEV + ROA + SHARE', data1999).fit()\n",
    "\n",
    "print(probit1.summary())"
   ],
   "metadata": {
    "collapsed": false,
    "pycharm": {
     "name": "#%%\n"
    }
   }
  },
  {
   "cell_type": "code",
   "execution_count": null,
   "outputs": [],
   "source": [
    "logit2 = smf.logit('ST ~ ARA + GROWTH + LEV', data1999).fit()\n",
    "\n",
    "print(logit2.summary())"
   ],
   "metadata": {
    "collapsed": false,
    "pycharm": {
     "name": "#%%\n"
    }
   }
  },
  {
   "cell_type": "code",
   "execution_count": null,
   "outputs": [],
   "source": [
    "probit2 = smf.probit('ST ~ ARA + GROWTH + LEV', data1999).fit()\n",
    "\n",
    "print(probit2.summary())"
   ],
   "metadata": {
    "collapsed": false,
    "pycharm": {
     "name": "#%%\n"
    }
   }
  },
  {
   "cell_type": "code",
   "execution_count": null,
   "outputs": [],
   "source": [],
   "metadata": {
    "collapsed": false,
    "pycharm": {
     "name": "#%%\n"
    }
   }
  }
 ],
 "metadata": {
  "kernelspec": {
   "display_name": "Python 3",
   "language": "python",
   "name": "python3"
  },
  "language_info": {
   "codemirror_mode": {
    "name": "ipython",
    "version": 2
   },
   "file_extension": ".py",
   "mimetype": "text/x-python",
   "name": "python",
   "nbconvert_exporter": "python",
   "pygments_lexer": "ipython2",
   "version": "2.7.6"
  },
  "pycharm": {
   "stem_cell": {
    "cell_type": "raw",
    "source": [],
    "metadata": {
     "collapsed": false
    }
   }
  }
 },
 "nbformat": 4,
 "nbformat_minor": 0
}