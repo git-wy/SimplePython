{
 "cells": [
  {
   "cell_type": "markdown",
   "source": [
    "# Chapter 1_4 0-1回归\n",
    "----\n",
    "Author: W.Y.  \n",
    "Date: 2020/1/15  \n",
    "Update: 2020/2/5  \n",
    "Info: 王汉生老师书的第四章，0-1回归的python极简实现  \n",
    "\n",
    "----"
   ],
   "metadata": {
    "collapsed": false
   }
  },
  {
   "cell_type": "code",
   "execution_count": 12,
   "outputs": [],
   "source": [
    "# 导入模块\n",
    "\n",
    "import pandas as pd\n",
    "import numpy as np\n",
    "import matplotlib.pyplot as plt  \n",
    "import matplotlib\n",
    "import seaborn as sns\n",
    "import statsmodels.formula.api as smf  \n",
    "import stepwiseSelection\n",
    "from sklearn import metrics  # 用于计算fpr和tpr"
   ],
   "metadata": {
    "collapsed": false,
    "pycharm": {
     "name": "#%%\n",
     "is_executing": false
    }
   }
  },
  {
   "cell_type": "code",
   "execution_count": 2,
   "outputs": [],
   "source": [
    "# 导入数据\n",
    "\n",
    "data = pd.read_csv('E:/Data Mining/SimplePython/Chapter 1 从R到Python/CH 1_4 0-1回归/CH 1_4 data ST.csv')"
   ],
   "metadata": {
    "collapsed": false,
    "pycharm": {
     "name": "#%%\n",
     "is_executing": false
    }
   }
  },
  {
   "cell_type": "code",
   "execution_count": 3,
   "outputs": [],
   "source": [
    "# 数据分割\n",
    "\n",
    "data1999 = data[data['year'] == 1999]\n",
    "data2000 = data[data['year'] == 2000]"
   ],
   "metadata": {
    "collapsed": false,
    "pycharm": {
     "name": "#%%\n",
     "is_executing": false
    }
   }
  },
  {
   "cell_type": "code",
   "execution_count": 4,
   "outputs": [
    {
     "data": {
      "text/plain": "   year       ARA      ASSET     ATO    GROWTH       LEV       ROA  SHARE  ST\n0  1999  0.192310  19.856048  0.0052 -0.950727  0.445880  0.087710  26.89   0\n1  1999  0.220120  20.910863  0.0056 -0.942656  0.398686  0.016820  39.62   0\n2  1999  0.325292  19.352623  0.0166 -0.937440  0.303348  0.042468  26.46   0\n3  1999  0.025729  21.438928  0.0028 -0.852995  0.758250  0.018152  60.16   0\n4  1999  0.533591  21.613339  0.2552 -0.816704  0.726875  0.004147  54.24   1",
      "text/html": "<div>\n<style scoped>\n    .dataframe tbody tr th:only-of-type {\n        vertical-align: middle;\n    }\n\n    .dataframe tbody tr th {\n        vertical-align: top;\n    }\n\n    .dataframe thead th {\n        text-align: right;\n    }\n</style>\n<table border=\"1\" class=\"dataframe\">\n  <thead>\n    <tr style=\"text-align: right;\">\n      <th></th>\n      <th>year</th>\n      <th>ARA</th>\n      <th>ASSET</th>\n      <th>ATO</th>\n      <th>GROWTH</th>\n      <th>LEV</th>\n      <th>ROA</th>\n      <th>SHARE</th>\n      <th>ST</th>\n    </tr>\n  </thead>\n  <tbody>\n    <tr>\n      <th>0</th>\n      <td>1999</td>\n      <td>0.192310</td>\n      <td>19.856048</td>\n      <td>0.0052</td>\n      <td>-0.950727</td>\n      <td>0.445880</td>\n      <td>0.087710</td>\n      <td>26.89</td>\n      <td>0</td>\n    </tr>\n    <tr>\n      <th>1</th>\n      <td>1999</td>\n      <td>0.220120</td>\n      <td>20.910863</td>\n      <td>0.0056</td>\n      <td>-0.942656</td>\n      <td>0.398686</td>\n      <td>0.016820</td>\n      <td>39.62</td>\n      <td>0</td>\n    </tr>\n    <tr>\n      <th>2</th>\n      <td>1999</td>\n      <td>0.325292</td>\n      <td>19.352623</td>\n      <td>0.0166</td>\n      <td>-0.937440</td>\n      <td>0.303348</td>\n      <td>0.042468</td>\n      <td>26.46</td>\n      <td>0</td>\n    </tr>\n    <tr>\n      <th>3</th>\n      <td>1999</td>\n      <td>0.025729</td>\n      <td>21.438928</td>\n      <td>0.0028</td>\n      <td>-0.852995</td>\n      <td>0.758250</td>\n      <td>0.018152</td>\n      <td>60.16</td>\n      <td>0</td>\n    </tr>\n    <tr>\n      <th>4</th>\n      <td>1999</td>\n      <td>0.533591</td>\n      <td>21.613339</td>\n      <td>0.2552</td>\n      <td>-0.816704</td>\n      <td>0.726875</td>\n      <td>0.004147</td>\n      <td>54.24</td>\n      <td>1</td>\n    </tr>\n  </tbody>\n</table>\n</div>"
     },
     "metadata": {},
     "output_type": "execute_result",
     "execution_count": 4
    }
   ],
   "source": [
    "# 预览数据\n",
    "\n",
    "data.head()"
   ],
   "metadata": {
    "collapsed": false,
    "pycharm": {
     "name": "#%%\n",
     "is_executing": false
    }
   }
  },
  {
   "cell_type": "code",
   "execution_count": 5,
   "outputs": [
    {
     "data": {
      "text/plain": "<matplotlib.axes._subplots.AxesSubplot at 0x280bd991320>"
     },
     "metadata": {},
     "output_type": "execute_result",
     "execution_count": 5
    },
    {
     "data": {
      "text/plain": "<Figure size 432x288 with 1 Axes>",
      "image/png": "[encoded data removed]"
     },
     "metadata": {
      "needs_background": "light"
     },
     "output_type": "display_data"
    }
   ],
   "source": [
    "# 箱图\n",
    "\n",
    "sns.boxplot(data1999['ST'], data1999['ARA'],color='white')"
   ],
   "metadata": {
    "collapsed": false,
    "pycharm": {
     "name": "#%%\n",
     "is_executing": false
    }
   }
  },
  {
   "cell_type": "code",
   "execution_count": 6,
   "outputs": [
    {
     "data": {
      "text/plain": "<Figure size 576x432 with 6 Axes>",
      "image/png": "[encoded data removed]"
     },
     "metadata": {
      "needs_background": "light"
     },
     "output_type": "display_data"
    }
   ],
   "source": [
    "matplotlib.rcParams['font.sans-serif'] = ['SimHei']  # 正常显示中文\n",
    "plt.rcParams['axes.unicode_minus']=False  # 正常显示负号\n",
    "\n",
    "fig = plt.figure(figsize=(8, 6))\n",
    "sns.boxplot(data1999['ST'], data1999['ASSET'], color='white', ax=plt.subplot(3,2,1)) \n",
    "sns.boxplot(data1999['ST'], data1999['ATO'], color='white', ax=plt.subplot(3,2,2))\n",
    "sns.boxplot(data1999['ST'], data1999['GROWTH'], color='white', ax=plt.subplot(3,2,3))\n",
    "sns.boxplot(data1999['ST'], data1999['LEV'], color='white',ax=plt.subplot(3,2,4))\n",
    "sns.boxplot(data1999['ST'], data1999['ROA'], color='white',ax=plt.subplot(3,2,5))\n",
    "sns.boxplot(data1999['ST'], data1999['SHARE'], color='white',ax=plt.subplot(3,2,6))\n",
    "fig.tight_layout()"
   ],
   "metadata": {
    "collapsed": false,
    "pycharm": {
     "name": "#%%\n",
     "is_executing": false
    }
   }
  },
  {
   "cell_type": "code",
   "execution_count": 7,
   "outputs": [
    {
     "name": "stdout",
     "text": [
      "Optimization terminated successfully.\n",
      "         Current function value: 0.183849\n",
      "         Iterations 8\n",
      "                           Logit Regression Results                           \n",
      "==============================================================================\n",
      "Dep. Variable:                     ST   No. Observations:                  684\n",
      "Model:                          Logit   Df Residuals:                      676\n",
      "Method:                           MLE   Df Model:                            7\n",
      "Date:                Tue, 04 Feb 2020   Pseudo R-squ.:                  0.1084\n",
      "Time:                        19:38:29   Log-Likelihood:                -125.75\n",
      "converged:                       True   LL-Null:                       -141.04\n",
      "                                        LLR p-value:                 7.477e-05\n",
      "==============================================================================\n",
      "                 coef    std err          z      P>|z|      [0.025      0.975]\n",
      "------------------------------------------------------------------------------\n",
      "Intercept     -8.8692      4.636     -1.913      0.056     -17.955       0.217\n",
      "ARA            4.8797      1.492      3.270      0.001       1.955       7.805\n",
      "ASSET          0.2466      0.224      1.100      0.271      -0.193       0.686\n",
      "ATO           -0.5074      0.657     -0.772      0.440      -1.796       0.781\n",
      "GROWTH        -0.8333      0.567     -1.470      0.142      -1.945       0.278\n",
      "LEV            2.3542      1.201      1.960      0.050      -0.001       4.709\n",
      "ROA           -0.6366      6.224     -0.102      0.919     -12.835      11.562\n",
      "SHARE         -0.0111      0.011     -0.997      0.319      -0.033       0.011\n",
      "==============================================================================\n"
     ],
     "output_type": "stream"
    }
   ],
   "source": [
    "# Logit回归（全模型）\n",
    "\n",
    "logit1 = smf.logit('ST ~ ARA + ASSET + ATO + GROWTH + '\n",
    "                   'LEV + ROA + SHARE', data1999).fit()\n",
    "\n",
    "print(logit1.summary())"
   ],
   "metadata": {
    "collapsed": false,
    "pycharm": {
     "name": "#%%\n",
     "is_executing": false
    }
   }
  },
  {
   "cell_type": "code",
   "execution_count": 8,
   "outputs": [
    {
     "name": "stdout",
     "text": [
      "Optimization terminated successfully.\n",
      "         Current function value: 0.183018\n",
      "         Iterations 7\n",
      "                          Probit Regression Results                           \n",
      "==============================================================================\n",
      "Dep. Variable:                     ST   No. Observations:                  684\n",
      "Model:                         Probit   Df Residuals:                      676\n",
      "Method:                           MLE   Df Model:                            7\n",
      "Date:                Tue, 04 Feb 2020   Pseudo R-squ.:                  0.1124\n",
      "Time:                        19:39:07   Log-Likelihood:                -125.18\n",
      "converged:                       True   LL-Null:                       -141.04\n",
      "                                        LLR p-value:                 4.612e-05\n",
      "==============================================================================\n",
      "                 coef    std err          z      P>|z|      [0.025      0.975]\n",
      "------------------------------------------------------------------------------\n",
      "Intercept     -4.9545      2.210     -2.242      0.025      -9.286      -0.623\n",
      "ARA            2.6467      0.767      3.450      0.001       1.143       4.150\n",
      "ASSET          0.1354      0.107      1.263      0.207      -0.075       0.346\n",
      "ATO           -0.2329      0.306     -0.761      0.447      -0.833       0.367\n",
      "GROWTH        -0.4733      0.274     -1.727      0.084      -1.010       0.064\n",
      "LEV            1.1952      0.590      2.025      0.043       0.038       2.352\n",
      "ROA            0.6696      2.504      0.267      0.789      -4.239       5.578\n",
      "SHARE         -0.0050      0.005     -0.959      0.337      -0.015       0.005\n",
      "==============================================================================\n"
     ],
     "output_type": "stream"
    }
   ],
   "source": [
    "# Probit回归（全模型）\n",
    "\n",
    "probit1 = smf.probit('ST ~ ARA + ASSET + ATO + GROWTH + '\n",
    "                   'LEV + ROA + SHARE', data1999).fit()\n",
    "\n",
    "print(probit1.summary())"
   ],
   "metadata": {
    "collapsed": false,
    "pycharm": {
     "name": "#%%\n",
     "is_executing": false
    }
   }
  },
  {
   "cell_type": "code",
   "execution_count": 11,
   "outputs": [],
   "source": [
    "# 变量选择\n",
    "\n",
    "X_train = data1999.iloc[:, 1:8]"
   ],
   "metadata": {
    "collapsed": false,
    "pycharm": {
     "name": "#%%\n",
     "is_executing": false
    }
   }
  },
  {
   "cell_type": "code",
   "execution_count": 18,
   "outputs": [
    {
     "name": "stdout",
     "text": [
      "Character Variables (Dummies Generated, First Dummies Dropped): []\n",
      "Optimization terminated successfully.\n",
      "         Current function value: 0.183849\n",
      "         Iterations 8\n",
      "Eliminated : ROA\n",
      "Optimization terminated successfully.\n",
      "         Current function value: 0.183857\n",
      "         Iterations 8\n",
      "Eliminated : ATO\n",
      "Optimization terminated successfully.\n",
      "         Current function value: 0.184357\n",
      "         Iterations 8\n",
      "Eliminated : SHARE\n",
      "Optimization terminated successfully.\n",
      "         Current function value: 0.185201\n",
      "         Iterations 8\n",
      "Eliminated : ASSET\n",
      "Optimization terminated successfully.\n",
      "         Current function value: 0.185699\n",
      "         Iterations 8\n",
      "Eliminated : GROWTH\n",
      "Optimization terminated successfully.\n",
      "         Current function value: 0.187743\n",
      "         Iterations 8\n",
      "Regained :  GROWTH\n",
      "                           Logit Regression Results                           \n",
      "==============================================================================\n",
      "Dep. Variable:                     ST   No. Observations:                  684\n",
      "Model:                          Logit   Df Residuals:                      680\n",
      "Method:                           MLE   Df Model:                            3\n",
      "Date:                Tue, 04 Feb 2020   Pseudo R-squ.:                 0.09939\n",
      "Time:                        19:50:57   Log-Likelihood:                -127.02\n",
      "converged:                       True   LL-Null:                       -141.04\n",
      "                                        LLR p-value:                 3.572e-06\n",
      "==============================================================================\n",
      "                 coef    std err          z      P>|z|      [0.025      0.975]\n",
      "------------------------------------------------------------------------------\n",
      "intercept     -4.6022      0.565     -8.152      0.000      -5.709      -3.496\n",
      "ARA            5.1301      1.434      3.577      0.000       2.319       7.941\n",
      "GROWTH        -0.9061      0.547     -1.656      0.098      -1.978       0.166\n",
      "LEV            2.5501      1.078      2.366      0.018       0.438       4.663\n",
      "==============================================================================\n",
      "AIC: 262.03621504823144\n",
      "BIC: 280.1480467187216\n",
      "Final Variables: ['intercept', 'ARA', 'GROWTH', 'LEV']\n"
     ],
     "output_type": "stream"
    }
   ],
   "source": [
    "# AIC \n",
    "\n",
    "logit_aic_vars, logit_aic_logs = stepwiseSelection.backwardSelection(X_train, data1999['ST'], model_type='logistic')"
   ],
   "metadata": {
    "collapsed": false,
    "pycharm": {
     "name": "#%%\n",
     "is_executing": false
    }
   }
  },
  {
   "cell_type": "code",
   "execution_count": 19,
   "outputs": [
    {
     "name": "stdout",
     "text": [
      "Optimization terminated successfully.\n",
      "         Current function value: 0.185699\n",
      "         Iterations 8\n",
      "                           Logit Regression Results                           \n",
      "==============================================================================\n",
      "Dep. Variable:                     ST   No. Observations:                  684\n",
      "Model:                          Logit   Df Residuals:                      680\n",
      "Method:                           MLE   Df Model:                            3\n",
      "Date:                Tue, 04 Feb 2020   Pseudo R-squ.:                 0.09939\n",
      "Time:                        19:50:58   Log-Likelihood:                -127.02\n",
      "converged:                       True   LL-Null:                       -141.04\n",
      "                                        LLR p-value:                 3.572e-06\n",
      "==============================================================================\n",
      "                 coef    std err          z      P>|z|      [0.025      0.975]\n",
      "------------------------------------------------------------------------------\n",
      "Intercept     -4.6022      0.565     -8.152      0.000      -5.709      -3.496\n",
      "ARA            5.1301      1.434      3.577      0.000       2.319       7.941\n",
      "GROWTH        -0.9061      0.547     -1.656      0.098      -1.978       0.166\n",
      "LEV            2.5501      1.078      2.366      0.018       0.438       4.663\n",
      "==============================================================================\n"
     ],
     "output_type": "stream"
    }
   ],
   "source": [
    "logit_aic = smf.logit('ST ~ ARA + GROWTH + LEV', data1999).fit()\n",
    "print(logit_aic.summary())"
   ],
   "metadata": {
    "collapsed": false,
    "pycharm": {
     "name": "#%%\n",
     "is_executing": false
    }
   }
  },
  {
   "cell_type": "code",
   "execution_count": 20,
   "outputs": [
    {
     "name": "stdout",
     "text": [
      "Character Variables (Dummies Generated, First Dummies Dropped): []\n",
      "Optimization terminated successfully.\n",
      "         Current function value: 0.183849\n",
      "         Iterations 8\n",
      "Eliminated : ROA\n",
      "Optimization terminated successfully.\n",
      "         Current function value: 0.183857\n",
      "         Iterations 8\n",
      "Eliminated : ATO\n",
      "Optimization terminated successfully.\n",
      "         Current function value: 0.184357\n",
      "         Iterations 8\n",
      "Eliminated : SHARE\n",
      "Optimization terminated successfully.\n",
      "         Current function value: 0.185201\n",
      "         Iterations 8\n",
      "Eliminated : ASSET\n",
      "Optimization terminated successfully.\n",
      "         Current function value: 0.185699\n",
      "         Iterations 8\n",
      "Eliminated : GROWTH\n",
      "Optimization terminated successfully.\n",
      "         Current function value: 0.187743\n",
      "         Iterations 8\n",
      "                           Logit Regression Results                           \n",
      "==============================================================================\n",
      "Dep. Variable:                     ST   No. Observations:                  684\n",
      "Model:                          Logit   Df Residuals:                      681\n",
      "Method:                           MLE   Df Model:                            2\n",
      "Date:                Tue, 04 Feb 2020   Pseudo R-squ.:                 0.08947\n",
      "Time:                        19:50:59   Log-Likelihood:                -128.42\n",
      "converged:                       True   LL-Null:                       -141.04\n",
      "                                        LLR p-value:                 3.308e-06\n",
      "==============================================================================\n",
      "                 coef    std err          z      P>|z|      [0.025      0.975]\n",
      "------------------------------------------------------------------------------\n",
      "intercept     -4.6861      0.564     -8.312      0.000      -5.791      -3.581\n",
      "ARA            5.9312      1.341      4.424      0.000       3.303       8.559\n",
      "LEV            2.3783      1.084      2.193      0.028       0.253       4.504\n",
      "==============================================================================\n",
      "AIC: 262.83264298633367\n",
      "BIC: 276.4165167392013\n",
      "Final Variables: ['intercept', 'ARA', 'LEV']\n"
     ],
     "output_type": "stream"
    }
   ],
   "source": [
    "# BIC\n",
    "\n",
    "logit_bic_vars, logit_bic_logs = stepwiseSelection.backwardSelection(X_train, data1999['ST'], model_type='logistic', elimination_criteria='bic')"
   ],
   "metadata": {
    "collapsed": false,
    "pycharm": {
     "name": "#%%\n",
     "is_executing": false
    }
   }
  },
  {
   "cell_type": "code",
   "execution_count": 23,
   "outputs": [
    {
     "name": "stdout",
     "text": [
      "Optimization terminated successfully.\n",
      "         Current function value: 0.191312\n",
      "         Iterations 7\n",
      "                           Logit Regression Results                           \n",
      "==============================================================================\n",
      "Dep. Variable:                     ST   No. Observations:                  684\n",
      "Model:                          Logit   Df Residuals:                      682\n",
      "Method:                           MLE   Df Model:                            1\n",
      "Date:                Tue, 04 Feb 2020   Pseudo R-squ.:                 0.07217\n",
      "Time:                        19:51:42   Log-Likelihood:                -130.86\n",
      "converged:                       True   LL-Null:                       -141.04\n",
      "                                        LLR p-value:                 6.429e-06\n",
      "==============================================================================\n",
      "                 coef    std err          z      P>|z|      [0.025      0.975]\n",
      "------------------------------------------------------------------------------\n",
      "Intercept     -3.6834      0.272    -13.531      0.000      -4.217      -3.150\n",
      "ARA            6.3316      1.313      4.821      0.000       3.758       8.906\n",
      "==============================================================================\n"
     ],
     "output_type": "stream"
    }
   ],
   "source": [
    "logit_bic = smf.logit('ST ~ ARA', data1999).fit()\n",
    "print(logit_bic.summary())\n",
    "\n",
    "# 类似前几章，结果和R不一样，还是用了和书上一样的"
   ],
   "metadata": {
    "collapsed": false,
    "pycharm": {
     "name": "#%%\n",
     "is_executing": false
    }
   }
  },
  {
   "cell_type": "code",
   "execution_count": 24,
   "outputs": [],
   "source": [
    "# 预测\n",
    "# Logit全模型\n",
    "\n",
    "predict_logit1 = logit1.predict(exog = data2000)"
   ],
   "metadata": {
    "collapsed": false,
    "pycharm": {
     "name": "#%%\n",
     "is_executing": false
    }
   }
  },
  {
   "cell_type": "code",
   "execution_count": 25,
   "outputs": [
    {
     "name": "stdout",
     "text": [
      "     0  1\n",
      "0  699  0\n",
      "1   47  0\n"
     ],
     "output_type": "stream"
    }
   ],
   "source": [
    "# 以0.50为阈值，查看预测结果\n",
    "\n",
    "matrix_logit_1 = metrics.confusion_matrix(data2000['ST'], np.where(predict_logit1 > 0.5, 1, 0), labels=[0,1])\n",
    "print(pd.DataFrame(matrix_logit_1))"
   ],
   "metadata": {
    "collapsed": false,
    "pycharm": {
     "name": "#%%\n",
     "is_executing": false
    }
   }
  },
  {
   "cell_type": "code",
   "execution_count": 26,
   "outputs": [
    {
     "name": "stdout",
     "text": [
      "   0    1\n",
      "0  0  699\n",
      "1  0   47\n"
     ],
     "output_type": "stream"
    }
   ],
   "source": [
    "# 以0为阈值，查看预测结果\n",
    "\n",
    "matrix_logit_2 = metrics.confusion_matrix(data2000['ST'], np.where(predict_logit1 > 0, 1, 0), labels=[0,1])\n",
    "print(pd.DataFrame(matrix_logit_2))"
   ],
   "metadata": {
    "collapsed": false,
    "pycharm": {
     "name": "#%%\n",
     "is_executing": false
    }
   }
  },
  {
   "cell_type": "code",
   "execution_count": 27,
   "outputs": [
    {
     "name": "stdout",
     "text": [
      "     0    1\n",
      "0  504  195\n",
      "1   18   29\n"
     ],
     "output_type": "stream"
    }
   ],
   "source": [
    "# 以0.05为阈值，查看预测结果\n",
    "\n",
    "matrix_logit_3 = metrics.confusion_matrix(data2000['ST'], np.where(predict_logit1 > 0.05, 1, 0), labels=[0,1])\n",
    "print(pd.DataFrame(matrix_logit_3))\n"
   ],
   "metadata": {
    "collapsed": false,
    "pycharm": {
     "name": "#%%\n",
     "is_executing": false
    }
   }
  },
  {
   "cell_type": "code",
   "execution_count": null,
   "outputs": [],
   "source": [
    "# 多个模型的ROC曲线，直接一起画了\n",
    "# 四个模型：logit全模型，logit的AIC，logit的BIC，probit的全模型\n",
    "\n",
    "# 计算预测值\n",
    "\n",
    "predict_logit1 = logit1.predict(exog = data2000)\n",
    "predict_logit_aic = logit_aic.predict(exog = data2000)\n",
    "predict_logit_bic = logit_bic.predict(exog = data2000)\n",
    "predict_probit1 = probit1.predict(exog = data2000)\n"
   ],
   "metadata": {
    "collapsed": false,
    "pycharm": {
     "name": "#%%\n"
    }
   }
  },
  {
   "cell_type": "code",
   "execution_count": 45,
   "outputs": [],
   "source": [
    "# 计算fpr和tpr值\n",
    "\n",
    "fpr_logit1, tpr_logit1, threshold_logit1 = metrics.roc_curve(data2000['ST'], predict_logit1, drop_intermediate=False)\n",
    "fpr_logit_aic, tpr_logit_aic, threshold_logit_aic = metrics.roc_curve(data2000['ST'], predict_logit_aic, drop_intermediate=False)\n",
    "fpr_logit_bic, tpr_logit_bic, threshold_logit_bic = metrics.roc_curve(data2000['ST'], predict_logit_bic, drop_intermediate=False)\n",
    "fpr_probit1, tpr_probit1, threshold_probit1 = metrics.roc_curve(data2000['ST'], predict_probit1, drop_intermediate=False)"
   ],
   "metadata": {
    "collapsed": false,
    "pycharm": {
     "name": "#%%\n",
     "is_executing": false
    }
   }
  },
  {
   "cell_type": "code",
   "execution_count": 48,
   "outputs": [
    {
     "data": {
      "text/plain": "<Figure size 432x288 with 1 Axes>",
      "image/png": "[encoded data removed]"
     },
     "metadata": {
      "needs_background": "light"
     },
     "output_type": "display_data"
    }
   ],
   "source": [
    "# 绘制ROC曲线\n",
    "\n",
    "plt.figure()\n",
    "plt.plot(fpr_logit1, tpr_logit1, color='red', label='logit1')\n",
    "plt.plot(fpr_logit_aic, tpr_logit_aic, color='black', label='logit_aic')\n",
    "plt.plot(fpr_logit_bic, tpr_logit_bic, color='orange', label='logit_bic')\n",
    "plt.plot(fpr_probit1, tpr_probit1, color='green', label='probit1')\n",
    "plt.plot([0, 1], [0, 1], color='blue', linestyle='--')\n",
    "plt.xlabel('FPR')\n",
    "plt.ylabel('TPR')\n",
    "plt.title('ROC curve')\n",
    "plt.legend()  # 显示图例\n",
    "plt.show()\n"
   ],
   "metadata": {
    "collapsed": false,
    "pycharm": {
     "name": "#%%\n",
     "is_executing": false
    }
   }
  }
 ],
 "metadata": {
  "kernelspec": {
   "display_name": "Python 3",
   "language": "python",
   "name": "python3"
  },
  "language_info": {
   "codemirror_mode": {
    "name": "ipython",
    "version": 2
   },
   "file_extension": ".py",
   "mimetype": "text/x-python",
   "name": "python",
   "nbconvert_exporter": "python",
   "pygments_lexer": "ipython2",
   "version": "2.7.6"
  },
  "pycharm": {
   "stem_cell": {
    "cell_type": "raw",
    "source": [],
    "metadata": {
     "collapsed": false
    }
   }
  }
 },
 "nbformat": 4,
 "nbformat_minor": 0
}