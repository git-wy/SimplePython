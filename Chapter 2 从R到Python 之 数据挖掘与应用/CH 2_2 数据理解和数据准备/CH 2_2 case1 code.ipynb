{
 "cells": [
  {
   "cell_type": "markdown",
   "source": [
    "# Chapter 2_1 case1 数据整合\n",
    "----\n",
    "Author: W.Y.  \n",
    "Date: 2020/2/7  \n",
    "Update: 2020/2/7  \n",
    "Info: 张俊妮老师书的第二章，数据理解和数据准备，case1，数据整合  \n",
    "\n",
    "----"
   ],
   "metadata": {
    "collapsed": false,
    "pycharm": {
     "name": "#%% md\n"
    }
   }
  },
  {
   "cell_type": "code",
   "execution_count": 13,
   "outputs": [],
   "source": [
    "# 导入模块\n",
    "\n",
    "import pandas as pd\n"
   ],
   "metadata": {
    "collapsed": false,
    "pycharm": {
     "name": "#%% \n",
     "is_executing": false
    }
   }
  },
  {
   "cell_type": "code",
   "execution_count": 32,
   "metadata": {
    "collapsed": true,
    "pycharm": {
     "is_executing": false
    }
   },
   "outputs": [],
   "source": [
    "# 导入数据\n",
    "\n",
    "product_a = pd.read_csv('E:\\Data Mining\\SimplePython\\Chapter 2 从R到Python 之 数据挖掘与应用\\CH 2_2 数据理解和数据准备\\CH 2_2 data ProductAPurchase.csv',\n",
    "                        dtype={'Date': str, 'AccountNo': str, 'Amount': float})\n",
    "product_b = pd.read_csv('E:\\Data Mining\\SimplePython\\Chapter 2 从R到Python 之 数据挖掘与应用\\CH 2_2 数据理解和数据准备\\CH 2_2 data ProductBPurchase.csv', \n",
    "                        dtype={'Date': str, 'AccountNo': str, 'Amount': float})\n",
    "demographic = pd.read_csv('E:\\Data Mining\\SimplePython\\Chapter 2 从R到Python 之 数据挖掘与应用\\CH 2_2 数据理解和数据准备\\CH 2_2 data Demographics.csv', \n",
    "                          dtype={'AccountNo': str, 'Age': float, 'Gender': str})\n",
    "\n",
    "# dtype 设置每列的格式"
   ]
  },
  {
   "cell_type": "code",
   "execution_count": 33,
   "outputs": [],
   "source": [
    "# 将Date从字符串格式转为日期格式\n",
    "\n",
    "product_a['Date'] = pd.to_datetime(product_a['Date'])\n",
    "product_b['Date'] = pd.to_datetime(product_b['Date'])"
   ],
   "metadata": {
    "collapsed": false,
    "pycharm": {
     "name": "#%%\n",
     "is_executing": false
    }
   }
  },
  {
   "cell_type": "code",
   "execution_count": 34,
   "outputs": [],
   "source": [
    "product_a['YearMonth'] = product_a['Date'].map(lambda x: 100*x.year + x.month)\n",
    "product_b['YearMonth'] = product_b['Date'].map(lambda x: 100*x.year + x.month)\n",
    "\n",
    "# 提取年份和月份，合并为一个变量。如果只要年份或者月份，可以用 product_a['year'] = product_a['Date'].dt.year"
   ],
   "metadata": {
    "collapsed": false,
    "pycharm": {
     "name": "#%%\n",
     "is_executing": false
    }
   }
  },
  {
   "cell_type": "code",
   "execution_count": null,
   "outputs": [],
   "source": [
    "product_a['product'] = 'A'\n",
    "product_b['product'] = 'B'"
   ],
   "metadata": {
    "collapsed": false,
    "pycharm": {
     "name": "#%%\n"
    }
   }
  },
  {
   "cell_type": "code",
   "execution_count": 36,
   "outputs": [],
   "source": [
    "product = pd.concat([product_a, product_b]).reset_index(drop=True)"
   ],
   "metadata": {
    "collapsed": false,
    "pycharm": {
     "name": "#%%\n",
     "is_executing": false
    }
   }
  },
  {
   "cell_type": "code",
   "execution_count": 37,
   "outputs": [],
   "source": [
    "product_sum = product.groupby(['AccountNo', 'product', 'YearMonth'])['Amount'].sum()\n",
    "product_freq = product.groupby(['AccountNo', 'product', 'YearMonth'])['Amount'].count()"
   ],
   "metadata": {
    "collapsed": false,
    "pycharm": {
     "name": "#%%\n",
     "is_executing": false
    }
   }
  },
  {
   "cell_type": "code",
   "execution_count": 38,
   "outputs": [],
   "source": [
    "product_final = pd.concat([product_sum, product_freq], axis=1)\n",
    "product_final.columns = ['sum', 'freq']"
   ],
   "metadata": {
    "collapsed": false,
    "pycharm": {
     "name": "#%%\n",
     "is_executing": false
    }
   }
  },
  {
   "cell_type": "code",
   "execution_count": 39,
   "outputs": [],
   "source": [
    "product_T = product_final.unstack(['product', 'YearMonth'])\n",
    "product_T = product_T.reset_index()"
   ],
   "metadata": {
    "collapsed": false,
    "pycharm": {
     "name": "#%%\n",
     "is_executing": false
    }
   }
  },
  {
   "cell_type": "code",
   "execution_count": 40,
   "outputs": [],
   "source": [
    "product_T.columns = ['AccountNo', '200601 sumA', '200602 sumA', '200601 sumB', '200602 sumB',\n",
    "                     '200601 freqA', '200602 freqA', '200601 freqB', '200602 freqB']"
   ],
   "metadata": {
    "collapsed": false,
    "pycharm": {
     "name": "#%%\n",
     "is_executing": false
    }
   }
  },
  {
   "cell_type": "code",
   "execution_count": 41,
   "outputs": [],
   "source": [
    "demographic = demographic.set_index(['AccountNo'])\n",
    "product_T = product_T.set_index(['AccountNo'])"
   ],
   "metadata": {
    "collapsed": false,
    "pycharm": {
     "name": "#%%\n",
     "is_executing": false
    }
   }
  },
  {
   "cell_type": "code",
   "execution_count": 42,
   "outputs": [],
   "source": [
    "result = pd.merge(demographic, product_T, how='outer',left_index=True,right_index=True)"
   ],
   "metadata": {
    "collapsed": false,
    "pycharm": {
     "name": "#%%\n",
     "is_executing": false
    }
   }
  },
  {
   "cell_type": "code",
   "execution_count": 43,
   "outputs": [
    {
     "data": {
      "text/plain": "  AccountNo   Age Gender  200601 sumA  200602 sumA  200601 sumB  200602 sumB  \\\n0       001  25.0      F        273.0        371.0        325.0        225.0   \n1       002  32.0      M         50.0        433.0        394.0        270.0   \n\n   200601 freqA  200602 freqA  200601 freqB  200602 freqB  \n0             2             3             1             2  \n1             1             2             3             2  ",
      "text/html": "<div>\n<style scoped>\n    .dataframe tbody tr th:only-of-type {\n        vertical-align: middle;\n    }\n\n    .dataframe tbody tr th {\n        vertical-align: top;\n    }\n\n    .dataframe thead th {\n        text-align: right;\n    }\n</style>\n<table border=\"1\" class=\"dataframe\">\n  <thead>\n    <tr style=\"text-align: right;\">\n      <th></th>\n      <th>AccountNo</th>\n      <th>Age</th>\n      <th>Gender</th>\n      <th>200601 sumA</th>\n      <th>200602 sumA</th>\n      <th>200601 sumB</th>\n      <th>200602 sumB</th>\n      <th>200601 freqA</th>\n      <th>200602 freqA</th>\n      <th>200601 freqB</th>\n      <th>200602 freqB</th>\n    </tr>\n  </thead>\n  <tbody>\n    <tr>\n      <th>0</th>\n      <td>001</td>\n      <td>25.0</td>\n      <td>F</td>\n      <td>273.0</td>\n      <td>371.0</td>\n      <td>325.0</td>\n      <td>225.0</td>\n      <td>2</td>\n      <td>3</td>\n      <td>1</td>\n      <td>2</td>\n    </tr>\n    <tr>\n      <th>1</th>\n      <td>002</td>\n      <td>32.0</td>\n      <td>M</td>\n      <td>50.0</td>\n      <td>433.0</td>\n      <td>394.0</td>\n      <td>270.0</td>\n      <td>1</td>\n      <td>2</td>\n      <td>3</td>\n      <td>2</td>\n    </tr>\n  </tbody>\n</table>\n</div>"
     },
     "metadata": {},
     "output_type": "execute_result",
     "execution_count": 43
    }
   ],
   "source": [
    "result = result.reset_index()\n",
    "result\n",
    "\n",
    "# 这里就结束了，如果想把列的顺序调整和书上一样，可以继续一步"
   ],
   "metadata": {
    "collapsed": false,
    "pycharm": {
     "name": "#%%\n",
     "is_executing": false
    }
   }
  },
  {
   "cell_type": "code",
   "execution_count": 44,
   "outputs": [
    {
     "data": {
      "text/plain": "  AccountNo   Age Gender  200601 freqA  200601 sumA  200602 freqA  \\\n0       001  25.0      F             2        273.0             3   \n1       002  32.0      M             1         50.0             2   \n\n   200602 sumA  200601 freqB  200601 sumB  200602 freqB  200602 sumB  \n0        371.0             1        325.0             2        225.0  \n1        433.0             3        394.0             2        270.0  ",
      "text/html": "<div>\n<style scoped>\n    .dataframe tbody tr th:only-of-type {\n        vertical-align: middle;\n    }\n\n    .dataframe tbody tr th {\n        vertical-align: top;\n    }\n\n    .dataframe thead th {\n        text-align: right;\n    }\n</style>\n<table border=\"1\" class=\"dataframe\">\n  <thead>\n    <tr style=\"text-align: right;\">\n      <th></th>\n      <th>AccountNo</th>\n      <th>Age</th>\n      <th>Gender</th>\n      <th>200601 freqA</th>\n      <th>200601 sumA</th>\n      <th>200602 freqA</th>\n      <th>200602 sumA</th>\n      <th>200601 freqB</th>\n      <th>200601 sumB</th>\n      <th>200602 freqB</th>\n      <th>200602 sumB</th>\n    </tr>\n  </thead>\n  <tbody>\n    <tr>\n      <th>0</th>\n      <td>001</td>\n      <td>25.0</td>\n      <td>F</td>\n      <td>2</td>\n      <td>273.0</td>\n      <td>3</td>\n      <td>371.0</td>\n      <td>1</td>\n      <td>325.0</td>\n      <td>2</td>\n      <td>225.0</td>\n    </tr>\n    <tr>\n      <th>1</th>\n      <td>002</td>\n      <td>32.0</td>\n      <td>M</td>\n      <td>1</td>\n      <td>50.0</td>\n      <td>2</td>\n      <td>433.0</td>\n      <td>3</td>\n      <td>394.0</td>\n      <td>2</td>\n      <td>270.0</td>\n    </tr>\n  </tbody>\n</table>\n</div>"
     },
     "metadata": {},
     "output_type": "execute_result",
     "execution_count": 44
    }
   ],
   "source": [
    "order = ['AccountNo', 'Age', 'Gender', '200601 freqA', '200601 sumA', '200602 freqA', '200602 sumA',  \n",
    "         '200601 freqB', '200601 sumB', '200602 freqB', '200602 sumB']\n",
    "result_order = result[order]\n",
    "result_order\n"
   ],
   "metadata": {
    "collapsed": false,
    "pycharm": {
     "name": "#%%\n",
     "is_executing": false
    }
   }
  }
 ],
 "metadata": {
  "kernelspec": {
   "display_name": "Python 3",
   "language": "python",
   "name": "python3"
  },
  "language_info": {
   "codemirror_mode": {
    "name": "ipython",
    "version": 2
   },
   "file_extension": ".py",
   "mimetype": "text/x-python",
   "name": "python",
   "nbconvert_exporter": "python",
   "pygments_lexer": "ipython2",
   "version": "2.7.6"
  },
  "pycharm": {
   "stem_cell": {
    "cell_type": "raw",
    "source": [],
    "metadata": {
     "collapsed": false
    }
   }
  }
 },
 "nbformat": 4,
 "nbformat_minor": 0
}