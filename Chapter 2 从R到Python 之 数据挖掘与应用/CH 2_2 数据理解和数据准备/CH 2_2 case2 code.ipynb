{
 "cells": [
  {
   "cell_type": "markdown",
   "metadata": {
    "collapsed": true,
    "pycharm": {
     "name": "#%% md\n"
    }
   },
   "source": [
    "# Chapter 2_2 case2 数据准备\n",
    "----\n",
    "Author: W.Y.  \n",
    "Date: 2020/2/7  \n",
    "Update: 2020/2/8  \n",
    "Info: 张俊妮老师书的第二章，数据理解和数据准备，case2，数据准备  \n",
    "\n",
    "----"
   ]
  },
  {
   "cell_type": "code",
   "execution_count": 1,
   "outputs": [],
   "source": [
    "# 导入模块\n",
    "\n",
    "import pandas as pd\n",
    "import numpy as np\n",
    "import matplotlib.pyplot as plt  \n",
    "import matplotlib\n",
    "from scipy import stats\n",
    "from matplotlib.backends.backend_pdf import PdfPages"
   ],
   "metadata": {
    "collapsed": false,
    "pycharm": {
     "name": "#%%\n",
     "is_executing": false
    }
   }
  },
  {
   "cell_type": "code",
   "execution_count": 2,
   "outputs": [],
   "source": [
    "# 导入数据\n",
    "\n",
    "data = pd.read_csv('E:\\Data Mining\\SimplePython\\Chapter 2 从R到Python 之 数据挖掘与应用\\CH 2_2 数据理解和数据准备\\CH 2_2 data credit.csv')\n"
   ],
   "metadata": {
    "collapsed": false,
    "pycharm": {
     "name": "#%%\n",
     "is_executing": false
    }
   }
  },
  {
   "cell_type": "code",
   "execution_count": 3,
   "outputs": [
    {
     "name": "stdout",
     "text": [
      "<class 'pandas.core.frame.DataFrame'>\n",
      "RangeIndex: 13996 entries, 0 to 13995\n",
      "Data columns (total 40 columns):\n",
      "BEACON        13996 non-null int64\n",
      "DAS           13996 non-null int64\n",
      "CRITERIA      13996 non-null int64\n",
      "ROPEN         13996 non-null int64\n",
      "RBALNO        13996 non-null int64\n",
      "LST_R_OPEN    13676 non-null float64\n",
      "RBAL          13676 non-null float64\n",
      "RLIMIT        13676 non-null float64\n",
      "TOPEN         13996 non-null int64\n",
      "TBALNO        13905 non-null float64\n",
      "MOF           13996 non-null int64\n",
      "RBAL_LIMIT    13996 non-null int64\n",
      "EQLIMIT       128 non-null float64\n",
      "EQBAL         128 non-null float64\n",
      "EQHIGHBAL     277 non-null float64\n",
      "EQCURBAL      277 non-null float64\n",
      "BCLIMIT       11481 non-null float64\n",
      "BCBAL         11481 non-null float64\n",
      "IHIGHBAL      7292 non-null float64\n",
      "ICURBAL       7290 non-null float64\n",
      "UNSECLIMIT    6117 non-null float64\n",
      "UNSECBAL      6117 non-null float64\n",
      "MTHIGHBAL     7721 non-null float64\n",
      "MTCURBAL      7721 non-null float64\n",
      "BCOPEN        0 non-null float64\n",
      "YEARS_RES     13411 non-null float64\n",
      "CHILDREN      13996 non-null int64\n",
      "EST_INC       13996 non-null float64\n",
      "OWN_HOME      13996 non-null int64\n",
      "HOME_VALUE    13996 non-null int64\n",
      "HOME_INC      13996 non-null int64\n",
      "HOME_ED       13996 non-null int64\n",
      "PRCNT_WHIT    13996 non-null int64\n",
      "PRCNT_PROF    13996 non-null int64\n",
      "DOB_MONTH     1139 non-null float64\n",
      "DOB_YEAR      9448 non-null float64\n",
      "AGE_INFERR    13996 non-null int64\n",
      "SEX           13996 non-null object\n",
      "MARRIED       13996 non-null object\n",
      "BUYER<P>      13996 non-null int64\n",
      "dtypes: float64(21), int64(17), object(2)\n",
      "memory usage: 4.3+ MB\n"
     ],
     "output_type": "stream"
    }
   ],
   "source": [
    "# 查看数据类型\n",
    "\n",
    "data.info()\n",
    "\n",
    "# 其中，float64 和 int64都是数字型，我们要提取这些列"
   ],
   "metadata": {
    "collapsed": false,
    "pycharm": {
     "name": "#%%\n",
     "is_executing": false
    }
   }
  },
  {
   "cell_type": "code",
   "execution_count": 4,
   "outputs": [],
   "source": [
    "# 选择数值型的列\n",
    "\n",
    "data_nvars = data.select_dtypes(include=[np.number]) \n",
    "\n",
    "# 用np.number可以包括float和int类型"
   ],
   "metadata": {
    "collapsed": false,
    "pycharm": {
     "name": "#%%\n",
     "is_executing": false
    }
   }
  },
  {
   "cell_type": "code",
   "execution_count": 5,
   "outputs": [],
   "source": [
    "# 有一列BCOPEN，全为NA值，R中类型非数值型，Python中却是float64类型（数值型）\n",
    "# 因此这里再删除这一列。 删除全部是NA值的列：\n",
    "\n",
    "data_nvars = data_nvars.dropna(axis=1, how='all') "
   ],
   "metadata": {
    "collapsed": false,
    "pycharm": {
     "name": "#%%\n",
     "is_executing": false
    }
   }
  },
  {
   "cell_type": "code",
   "execution_count": 6,
   "outputs": [
    {
     "data": {
      "text/plain": "             BEACON           DAS  CRITERIA         ROPEN        RBALNO  \\\ncount  13996.000000  13996.000000   13996.0  13996.000000  13996.000000   \nmean     749.662475    154.703987       1.0      3.538797      2.251358   \nstd       24.869341    120.056070       0.0      2.167016      1.608963   \nmin      670.000000   -202.000000       1.0      0.000000      0.000000   \n25%      731.000000     67.000000       1.0      2.000000      1.000000   \n50%      752.000000    150.000000       1.0      3.000000      2.000000   \n75%      770.000000    238.000000       1.0      5.000000      3.000000   \nmax      804.000000    524.000000       1.0     17.000000     16.000000   \n\n         LST_R_OPEN          RBAL         RLIMIT         TOPEN         TBALNO  \\\ncount  13676.000000  13676.000000   13676.000000  13996.000000   13905.000000   \nmean      27.011553   3295.697499   14853.108292      3.946413   12899.975476   \nstd       28.139862   4586.611711   13040.206713      2.200098   24003.047052   \nmin        1.000000      0.000000       0.000000      0.000000       0.000000   \n25%        7.000000    462.000000    7500.000000      2.000000    1419.000000   \n50%       16.000000   1550.000000   12951.000000      4.000000    6513.000000   \n75%       36.000000   4200.500000   20073.250000      5.000000   15467.000000   \nmax       99.000000  78928.000000  999999.000000     17.000000  999999.000000   \n\n       ...  OWN_HOME    HOME_VALUE      HOME_INC       HOME_ED    PRCNT_WHIT  \\\ncount  ...   13996.0  13996.000000  13996.000000  13996.000000  13996.000000   \nmean   ...       0.0     94.488354     41.760289    127.968705     90.152829   \nstd    ...       0.0     41.182402     15.890445     25.853008     17.415204   \nmin    ...       0.0      0.000000      0.000000      0.000000      0.000000   \n25%    ...       0.0     70.000000     32.000000    120.000000     90.000000   \n50%    ...       0.0     90.000000     41.000000    120.000000     95.000000   \n75%    ...       0.0    108.000000     49.000000    140.000000     98.000000   \nmax    ...       0.0    531.000000    150.000000    160.000000     99.000000   \n\n         PRCNT_PROF    DOB_MONTH     DOB_YEAR    AGE_INFERR      BUYER<P>  \ncount  13996.000000  1139.000000  9448.000000  13996.000000  13996.000000  \nmean      32.879251     1.132572    51.909187     43.792798      0.214133  \nstd       12.924028     2.884262     9.389900      7.256989      0.410234  \nmin        0.000000     0.000000    30.000000     35.000000      0.000000  \n25%       24.000000     0.000000    46.000000     42.000000      0.000000  \n50%       34.000000     0.000000    53.000000     42.000000      0.000000  \n75%       42.000000     0.000000    59.000000     42.000000      0.000000  \nmax       86.000000    12.000000    70.000000     57.000000      1.000000  \n\n[8 rows x 37 columns]",
      "text/html": "<div>\n<style scoped>\n    .dataframe tbody tr th:only-of-type {\n        vertical-align: middle;\n    }\n\n    .dataframe tbody tr th {\n        vertical-align: top;\n    }\n\n    .dataframe thead th {\n        text-align: right;\n    }\n</style>\n<table border=\"1\" class=\"dataframe\">\n  <thead>\n    <tr style=\"text-align: right;\">\n      <th></th>\n      <th>BEACON</th>\n      <th>DAS</th>\n      <th>CRITERIA</th>\n      <th>ROPEN</th>\n      <th>RBALNO</th>\n      <th>LST_R_OPEN</th>\n      <th>RBAL</th>\n      <th>RLIMIT</th>\n      <th>TOPEN</th>\n      <th>TBALNO</th>\n      <th>...</th>\n      <th>OWN_HOME</th>\n      <th>HOME_VALUE</th>\n      <th>HOME_INC</th>\n      <th>HOME_ED</th>\n      <th>PRCNT_WHIT</th>\n      <th>PRCNT_PROF</th>\n      <th>DOB_MONTH</th>\n      <th>DOB_YEAR</th>\n      <th>AGE_INFERR</th>\n      <th>BUYER&lt;P&gt;</th>\n    </tr>\n  </thead>\n  <tbody>\n    <tr>\n      <th>count</th>\n      <td>13996.000000</td>\n      <td>13996.000000</td>\n      <td>13996.0</td>\n      <td>13996.000000</td>\n      <td>13996.000000</td>\n      <td>13676.000000</td>\n      <td>13676.000000</td>\n      <td>13676.000000</td>\n      <td>13996.000000</td>\n      <td>13905.000000</td>\n      <td>...</td>\n      <td>13996.0</td>\n      <td>13996.000000</td>\n      <td>13996.000000</td>\n      <td>13996.000000</td>\n      <td>13996.000000</td>\n      <td>13996.000000</td>\n      <td>1139.000000</td>\n      <td>9448.000000</td>\n      <td>13996.000000</td>\n      <td>13996.000000</td>\n    </tr>\n    <tr>\n      <th>mean</th>\n      <td>749.662475</td>\n      <td>154.703987</td>\n      <td>1.0</td>\n      <td>3.538797</td>\n      <td>2.251358</td>\n      <td>27.011553</td>\n      <td>3295.697499</td>\n      <td>14853.108292</td>\n      <td>3.946413</td>\n      <td>12899.975476</td>\n      <td>...</td>\n      <td>0.0</td>\n      <td>94.488354</td>\n      <td>41.760289</td>\n      <td>127.968705</td>\n      <td>90.152829</td>\n      <td>32.879251</td>\n      <td>1.132572</td>\n      <td>51.909187</td>\n      <td>43.792798</td>\n      <td>0.214133</td>\n    </tr>\n    <tr>\n      <th>std</th>\n      <td>24.869341</td>\n      <td>120.056070</td>\n      <td>0.0</td>\n      <td>2.167016</td>\n      <td>1.608963</td>\n      <td>28.139862</td>\n      <td>4586.611711</td>\n      <td>13040.206713</td>\n      <td>2.200098</td>\n      <td>24003.047052</td>\n      <td>...</td>\n      <td>0.0</td>\n      <td>41.182402</td>\n      <td>15.890445</td>\n      <td>25.853008</td>\n      <td>17.415204</td>\n      <td>12.924028</td>\n      <td>2.884262</td>\n      <td>9.389900</td>\n      <td>7.256989</td>\n      <td>0.410234</td>\n    </tr>\n    <tr>\n      <th>min</th>\n      <td>670.000000</td>\n      <td>-202.000000</td>\n      <td>1.0</td>\n      <td>0.000000</td>\n      <td>0.000000</td>\n      <td>1.000000</td>\n      <td>0.000000</td>\n      <td>0.000000</td>\n      <td>0.000000</td>\n      <td>0.000000</td>\n      <td>...</td>\n      <td>0.0</td>\n      <td>0.000000</td>\n      <td>0.000000</td>\n      <td>0.000000</td>\n      <td>0.000000</td>\n      <td>0.000000</td>\n      <td>0.000000</td>\n      <td>30.000000</td>\n      <td>35.000000</td>\n      <td>0.000000</td>\n    </tr>\n    <tr>\n      <th>25%</th>\n      <td>731.000000</td>\n      <td>67.000000</td>\n      <td>1.0</td>\n      <td>2.000000</td>\n      <td>1.000000</td>\n      <td>7.000000</td>\n      <td>462.000000</td>\n      <td>7500.000000</td>\n      <td>2.000000</td>\n      <td>1419.000000</td>\n      <td>...</td>\n      <td>0.0</td>\n      <td>70.000000</td>\n      <td>32.000000</td>\n      <td>120.000000</td>\n      <td>90.000000</td>\n      <td>24.000000</td>\n      <td>0.000000</td>\n      <td>46.000000</td>\n      <td>42.000000</td>\n      <td>0.000000</td>\n    </tr>\n    <tr>\n      <th>50%</th>\n      <td>752.000000</td>\n      <td>150.000000</td>\n      <td>1.0</td>\n      <td>3.000000</td>\n      <td>2.000000</td>\n      <td>16.000000</td>\n      <td>1550.000000</td>\n      <td>12951.000000</td>\n      <td>4.000000</td>\n      <td>6513.000000</td>\n      <td>...</td>\n      <td>0.0</td>\n      <td>90.000000</td>\n      <td>41.000000</td>\n      <td>120.000000</td>\n      <td>95.000000</td>\n      <td>34.000000</td>\n      <td>0.000000</td>\n      <td>53.000000</td>\n      <td>42.000000</td>\n      <td>0.000000</td>\n    </tr>\n    <tr>\n      <th>75%</th>\n      <td>770.000000</td>\n      <td>238.000000</td>\n      <td>1.0</td>\n      <td>5.000000</td>\n      <td>3.000000</td>\n      <td>36.000000</td>\n      <td>4200.500000</td>\n      <td>20073.250000</td>\n      <td>5.000000</td>\n      <td>15467.000000</td>\n      <td>...</td>\n      <td>0.0</td>\n      <td>108.000000</td>\n      <td>49.000000</td>\n      <td>140.000000</td>\n      <td>98.000000</td>\n      <td>42.000000</td>\n      <td>0.000000</td>\n      <td>59.000000</td>\n      <td>42.000000</td>\n      <td>0.000000</td>\n    </tr>\n    <tr>\n      <th>max</th>\n      <td>804.000000</td>\n      <td>524.000000</td>\n      <td>1.0</td>\n      <td>17.000000</td>\n      <td>16.000000</td>\n      <td>99.000000</td>\n      <td>78928.000000</td>\n      <td>999999.000000</td>\n      <td>17.000000</td>\n      <td>999999.000000</td>\n      <td>...</td>\n      <td>0.0</td>\n      <td>531.000000</td>\n      <td>150.000000</td>\n      <td>160.000000</td>\n      <td>99.000000</td>\n      <td>86.000000</td>\n      <td>12.000000</td>\n      <td>70.000000</td>\n      <td>57.000000</td>\n      <td>1.000000</td>\n    </tr>\n  </tbody>\n</table>\n<p>8 rows × 37 columns</p>\n</div>"
     },
     "metadata": {},
     "output_type": "execute_result",
     "execution_count": 6
    }
   ],
   "source": [
    "# 描述性分析\n",
    "\n",
    "data_nvars.describe()"
   ],
   "metadata": {
    "collapsed": false,
    "pycharm": {
     "name": "#%%\n",
     "is_executing": false
    }
   }
  },
  {
   "cell_type": "code",
   "execution_count": 7,
   "outputs": [
    {
     "data": {
      "text/plain": "BEACON            0\nDAS               0\nCRITERIA          0\nROPEN             0\nRBALNO            0\nLST_R_OPEN      320\nRBAL            320\nRLIMIT          320\nTOPEN             0\nTBALNO           91\nMOF               0\nRBAL_LIMIT        0\nEQLIMIT       13868\nEQBAL         13868\nEQHIGHBAL     13719\nEQCURBAL      13719\nBCLIMIT        2515\nBCBAL          2515\nIHIGHBAL       6704\nICURBAL        6706\nUNSECLIMIT     7879\nUNSECBAL       7879\nMTHIGHBAL      6275\nMTCURBAL       6275\nYEARS_RES       585\nCHILDREN          0\nEST_INC           0\nOWN_HOME          0\nHOME_VALUE        0\nHOME_INC          0\nHOME_ED           0\nPRCNT_WHIT        0\nPRCNT_PROF        0\nDOB_MONTH     12857\nDOB_YEAR       4548\nAGE_INFERR        0\nBUYER<P>          0\ndtype: int64"
     },
     "metadata": {},
     "output_type": "execute_result",
     "execution_count": 7
    }
   ],
   "source": [
    "# 统计变量和R中summary()函数不完全一样，差了一个NA个数。统计方式如下：\n",
    "\n",
    "data_nvars.isnull().sum()"
   ],
   "metadata": {
    "collapsed": false,
    "pycharm": {
     "name": "#%%\n",
     "is_executing": false
    }
   }
  },
  {
   "cell_type": "code",
   "execution_count": 8,
   "outputs": [],
   "source": [
    "# 存为数据框\n",
    "# 其实就是describe()的结果，转置一下，再加一列NA个数\n",
    "\n",
    "data_nvars_description = pd.DataFrame(data_nvars.describe()).T\n",
    "data_nvars_description['NA'] = data_nvars.isnull().sum()"
   ],
   "metadata": {
    "collapsed": false,
    "pycharm": {
     "name": "#%%\n",
     "is_executing": false
    }
   }
  },
  {
   "cell_type": "code",
   "execution_count": 9,
   "outputs": [
    {
     "data": {
      "text/plain": "              count          mean           std    min     25%      50%  \\\nBEACON      13996.0    749.662475     24.869341  670.0   731.0    752.0   \nDAS         13996.0    154.703987    120.056070 -202.0    67.0    150.0   \nCRITERIA    13996.0      1.000000      0.000000    1.0     1.0      1.0   \nROPEN       13996.0      3.538797      2.167016    0.0     2.0      3.0   \nRBALNO      13996.0      2.251358      1.608963    0.0     1.0      2.0   \nLST_R_OPEN  13676.0     27.011553     28.139862    1.0     7.0     16.0   \nRBAL        13676.0   3295.697499   4586.611711    0.0   462.0   1550.0   \nRLIMIT      13676.0  14853.108292  13040.206713    0.0  7500.0  12951.0   \nTOPEN       13996.0      3.946413      2.200098    0.0     2.0      4.0   \nTBALNO      13905.0  12899.975476  24003.047052    0.0  1419.0   6513.0   \n\n                 75%       max   NA  \nBEACON        770.00     804.0    0  \nDAS           238.00     524.0    0  \nCRITERIA        1.00       1.0    0  \nROPEN           5.00      17.0    0  \nRBALNO          3.00      16.0    0  \nLST_R_OPEN     36.00      99.0  320  \nRBAL         4200.50   78928.0  320  \nRLIMIT      20073.25  999999.0  320  \nTOPEN           5.00      17.0    0  \nTBALNO      15467.00  999999.0   91  ",
      "text/html": "<div>\n<style scoped>\n    .dataframe tbody tr th:only-of-type {\n        vertical-align: middle;\n    }\n\n    .dataframe tbody tr th {\n        vertical-align: top;\n    }\n\n    .dataframe thead th {\n        text-align: right;\n    }\n</style>\n<table border=\"1\" class=\"dataframe\">\n  <thead>\n    <tr style=\"text-align: right;\">\n      <th></th>\n      <th>count</th>\n      <th>mean</th>\n      <th>std</th>\n      <th>min</th>\n      <th>25%</th>\n      <th>50%</th>\n      <th>75%</th>\n      <th>max</th>\n      <th>NA</th>\n    </tr>\n  </thead>\n  <tbody>\n    <tr>\n      <th>BEACON</th>\n      <td>13996.0</td>\n      <td>749.662475</td>\n      <td>24.869341</td>\n      <td>670.0</td>\n      <td>731.0</td>\n      <td>752.0</td>\n      <td>770.00</td>\n      <td>804.0</td>\n      <td>0</td>\n    </tr>\n    <tr>\n      <th>DAS</th>\n      <td>13996.0</td>\n      <td>154.703987</td>\n      <td>120.056070</td>\n      <td>-202.0</td>\n      <td>67.0</td>\n      <td>150.0</td>\n      <td>238.00</td>\n      <td>524.0</td>\n      <td>0</td>\n    </tr>\n    <tr>\n      <th>CRITERIA</th>\n      <td>13996.0</td>\n      <td>1.000000</td>\n      <td>0.000000</td>\n      <td>1.0</td>\n      <td>1.0</td>\n      <td>1.0</td>\n      <td>1.00</td>\n      <td>1.0</td>\n      <td>0</td>\n    </tr>\n    <tr>\n      <th>ROPEN</th>\n      <td>13996.0</td>\n      <td>3.538797</td>\n      <td>2.167016</td>\n      <td>0.0</td>\n      <td>2.0</td>\n      <td>3.0</td>\n      <td>5.00</td>\n      <td>17.0</td>\n      <td>0</td>\n    </tr>\n    <tr>\n      <th>RBALNO</th>\n      <td>13996.0</td>\n      <td>2.251358</td>\n      <td>1.608963</td>\n      <td>0.0</td>\n      <td>1.0</td>\n      <td>2.0</td>\n      <td>3.00</td>\n      <td>16.0</td>\n      <td>0</td>\n    </tr>\n    <tr>\n      <th>LST_R_OPEN</th>\n      <td>13676.0</td>\n      <td>27.011553</td>\n      <td>28.139862</td>\n      <td>1.0</td>\n      <td>7.0</td>\n      <td>16.0</td>\n      <td>36.00</td>\n      <td>99.0</td>\n      <td>320</td>\n    </tr>\n    <tr>\n      <th>RBAL</th>\n      <td>13676.0</td>\n      <td>3295.697499</td>\n      <td>4586.611711</td>\n      <td>0.0</td>\n      <td>462.0</td>\n      <td>1550.0</td>\n      <td>4200.50</td>\n      <td>78928.0</td>\n      <td>320</td>\n    </tr>\n    <tr>\n      <th>RLIMIT</th>\n      <td>13676.0</td>\n      <td>14853.108292</td>\n      <td>13040.206713</td>\n      <td>0.0</td>\n      <td>7500.0</td>\n      <td>12951.0</td>\n      <td>20073.25</td>\n      <td>999999.0</td>\n      <td>320</td>\n    </tr>\n    <tr>\n      <th>TOPEN</th>\n      <td>13996.0</td>\n      <td>3.946413</td>\n      <td>2.200098</td>\n      <td>0.0</td>\n      <td>2.0</td>\n      <td>4.0</td>\n      <td>5.00</td>\n      <td>17.0</td>\n      <td>0</td>\n    </tr>\n    <tr>\n      <th>TBALNO</th>\n      <td>13905.0</td>\n      <td>12899.975476</td>\n      <td>24003.047052</td>\n      <td>0.0</td>\n      <td>1419.0</td>\n      <td>6513.0</td>\n      <td>15467.00</td>\n      <td>999999.0</td>\n      <td>91</td>\n    </tr>\n  </tbody>\n</table>\n</div>"
     },
     "metadata": {},
     "output_type": "execute_result",
     "execution_count": 9
    }
   ],
   "source": [
    "data_nvars_description.head(10)"
   ],
   "metadata": {
    "collapsed": false,
    "pycharm": {
     "name": "#%%\n",
     "is_executing": false
    }
   }
  },
  {
   "cell_type": "code",
   "execution_count": 10,
   "outputs": [
    {
     "name": "stderr",
     "text": [
      "D:\\Anaconda\\lib\\site-packages\\numpy\\lib\\histograms.py:824: RuntimeWarning: invalid value encountered in greater_equal\n",
      "  keep = (tmp_a >= first_edge)\n",
      "D:\\Anaconda\\lib\\site-packages\\numpy\\lib\\histograms.py:825: RuntimeWarning: invalid value encountered in less_equal\n",
      "  keep &= (tmp_a <= last_edge)\n"
     ],
     "output_type": "stream"
    }
   ],
   "source": [
    "# 批量直方图\n",
    "\n",
    "matplotlib.rcParams['font.sans-serif'] = ['SimHei']  # 正常显示中文\n",
    "plt.rcParams['axes.unicode_minus']=False  # 正常显示负号\n",
    "\n",
    "factorlist = list(data_nvars.columns.values)\n",
    "# 需要画的变量的名字都放在factorlist里面\n",
    "\n",
    "with PdfPages('CH 2_2 case2 result_histogram.pdf') as pdf:  \n",
    "    for i in range(len(factorlist)):\n",
    "        plt.hist(data_nvars[factorlist[i]])  # 画直方图\n",
    "        plt.title('histogram of %s' %(factorlist[i]))  # 设置标题\n",
    "        plt.xlabel(factorlist[i])\n",
    "        plt.ylabel('frequency')\n",
    "        pdf.savefig()\n",
    "        plt.close()\n",
    "\n",
    "# 设置标题时，用了字符串格式化，%s代表字符串。\n",
    "# 可以再去了解一下格式化操作和%操作符，也很实用。"
   ],
   "metadata": {
    "collapsed": false,
    "pycharm": {
     "name": "#%%\n",
     "is_executing": false
    }
   }
  },
  {
   "cell_type": "code",
   "execution_count": 11,
   "outputs": [],
   "source": [
    "# 删除冗余变量\n",
    "\n",
    "data_new = data.drop(columns=['CRITERIA', 'OWN_HOME'])"
   ],
   "metadata": {
    "collapsed": false,
    "pycharm": {
     "name": "#%%\n",
     "is_executing": false
    }
   }
  },
  {
   "cell_type": "code",
   "execution_count": 12,
   "outputs": [],
   "source": [
    "# 对数变换\n",
    "\n",
    "data_new['BCBAL1'] = np.log(data_new['BCBAL']+1)"
   ],
   "metadata": {
    "collapsed": false,
    "pycharm": {
     "name": "#%%\n",
     "is_executing": false
    }
   }
  },
  {
   "cell_type": "code",
   "execution_count": 13,
   "outputs": [],
   "source": [
    "# 变量的秩转换\n",
    "\n",
    "# 计算百分位数，并存入列表，作为分组的区间\n",
    "BCBAL_quantile = []\n",
    "for i in np.arange(0,1.01,0.01):\n",
    "    BCBAL_quantile.append(data_new['BCBAL'].quantile(i))\n",
    "    "
   ],
   "metadata": {
    "collapsed": false,
    "pycharm": {
     "name": "#%%\n",
     "is_executing": false
    }
   }
  },
  {
   "cell_type": "code",
   "execution_count": 14,
   "outputs": [],
   "source": [
    "# 列表元素去重\n",
    "\n",
    "quantile_unique = list(set(BCBAL_quantile))\n",
    "quantile_unique.sort(key=BCBAL_quantile.index)\n",
    "\n",
    "# 注意：set方式会改变原列表的排序，所以要重新排序。"
   ],
   "metadata": {
    "collapsed": false,
    "pycharm": {
     "name": "#%%\n",
     "is_executing": false
    }
   }
  },
  {
   "cell_type": "code",
   "execution_count": 15,
   "outputs": [],
   "source": [
    "# 加入-1\n",
    "\n",
    "quantile_unique.insert(0,-1) \n"
   ],
   "metadata": {
    "collapsed": false,
    "pycharm": {
     "name": "#%%\n",
     "is_executing": false
    }
   }
  },
  {
   "cell_type": "code",
   "execution_count": 16,
   "outputs": [],
   "source": [
    "# 分组，存为变量BCBAL2\n",
    "\n",
    "data_new['BCBAL2'] = pd.cut(data_new['BCBAL'], bins=quantile_unique, labels=False)"
   ],
   "metadata": {
    "collapsed": false,
    "pycharm": {
     "name": "#%%\n",
     "is_executing": false
    }
   }
  },
  {
   "cell_type": "code",
   "execution_count": 17,
   "outputs": [
    {
     "data": {
      "text/plain": "M    12183\nF     1631\nU      182\nName: SEX, dtype: int64"
     },
     "metadata": {},
     "output_type": "execute_result",
     "execution_count": 17
    }
   ],
   "source": [
    "# 频数分布\n",
    "\n",
    "data_new['SEX'].value_counts()"
   ],
   "metadata": {
    "collapsed": false,
    "pycharm": {
     "name": "#%%\n",
     "is_executing": false
    }
   }
  },
  {
   "cell_type": "code",
   "execution_count": 18,
   "outputs": [
    {
     "name": "stdout",
     "text": [
      "Ttest_indResult(statistic=-7.736482216888369, pvalue=1.0917132491642911e-14)\n"
     ],
     "output_type": "stream"
    }
   ],
   "source": [
    "# T检验\n",
    "\n",
    "age1=data_new[data_new['BUYER<P>']==1]['AGE_INFERR']\n",
    "age0=data_new[data_new['BUYER<P>']==0]['AGE_INFERR']\n",
    "print(stats.ttest_ind(age0, age1))\n",
    "\n",
    "# 原数据中变量名称就是BUYER<P>，R中变成了BUYER.P.，所以书上的变量名和这里不一样。"
   ],
   "metadata": {
    "collapsed": false,
    "pycharm": {
     "name": "#%%\n",
     "is_executing": false
    }
   }
  },
  {
   "cell_type": "code",
   "execution_count": 19,
   "outputs": [
    {
     "name": "stdout",
     "text": [
      "Test Statistic: -7.736482216888369\n",
      "p-value: 1.0917132491642911e-14\n"
     ],
     "output_type": "stream"
    }
   ],
   "source": [
    "# 结果不太好看，整理一下\n",
    "\n",
    "t_statistic, p = stats.ttest_ind(age0, age1)\n",
    "msg = \"Test Statistic: {}\\np-value: {}\"\n",
    "print(msg.format(t_statistic, p))\n"
   ],
   "metadata": {
    "collapsed": false,
    "pycharm": {
     "name": "#%%\n",
     "is_executing": false
    }
   }
  },
  {
   "cell_type": "code",
   "execution_count": 20,
   "outputs": [
    {
     "data": {
      "text/plain": "SEX          F      M    U    All\nBUYER<P>                         \n0         1245   9612  142  10999\n1          386   2571   40   2997\nAll       1631  12183  182  13996",
      "text/html": "<div>\n<style scoped>\n    .dataframe tbody tr th:only-of-type {\n        vertical-align: middle;\n    }\n\n    .dataframe tbody tr th {\n        vertical-align: top;\n    }\n\n    .dataframe thead th {\n        text-align: right;\n    }\n</style>\n<table border=\"1\" class=\"dataframe\">\n  <thead>\n    <tr style=\"text-align: right;\">\n      <th>SEX</th>\n      <th>F</th>\n      <th>M</th>\n      <th>U</th>\n      <th>All</th>\n    </tr>\n    <tr>\n      <th>BUYER&lt;P&gt;</th>\n      <th></th>\n      <th></th>\n      <th></th>\n      <th></th>\n    </tr>\n  </thead>\n  <tbody>\n    <tr>\n      <th>0</th>\n      <td>1245</td>\n      <td>9612</td>\n      <td>142</td>\n      <td>10999</td>\n    </tr>\n    <tr>\n      <th>1</th>\n      <td>386</td>\n      <td>2571</td>\n      <td>40</td>\n      <td>2997</td>\n    </tr>\n    <tr>\n      <th>All</th>\n      <td>1631</td>\n      <td>12183</td>\n      <td>182</td>\n      <td>13996</td>\n    </tr>\n  </tbody>\n</table>\n</div>"
     },
     "metadata": {},
     "output_type": "execute_result",
     "execution_count": 20
    }
   ],
   "source": [
    "# 列联表\n",
    "\n",
    "crosstable = pd.crosstab(data_new['BUYER<P>'], data_new['SEX'], margins=True)\n",
    "crosstable"
   ],
   "metadata": {
    "collapsed": false,
    "pycharm": {
     "name": "#%%\n",
     "is_executing": false
    }
   }
  },
  {
   "cell_type": "code",
   "execution_count": 21,
   "outputs": [
    {
     "data": {
      "text/plain": "array([[1245, 9612,  142],\n       [ 386, 2571,   40]], dtype=int64)"
     },
     "metadata": {},
     "output_type": "execute_result",
     "execution_count": 21
    }
   ],
   "source": [
    "# 选择列联表中的值，不包括汇总行和汇总列\n",
    "cross_array = np.array([crosstable.iloc[0][0:3].values,\n",
    "                        crosstable.iloc[1][0:3].values])\n",
    "cross_array"
   ],
   "metadata": {
    "collapsed": false,
    "pycharm": {
     "name": "#%%\n",
     "is_executing": false
    }
   }
  },
  {
   "cell_type": "code",
   "execution_count": 22,
   "outputs": [
    {
     "data": {
      "text/plain": "(5.6512559164742875,\n 0.05927142516103865,\n 2,\n array([[1281.7497142 , 9574.22242069,  143.0278651 ],\n        [ 349.2502858 , 2608.77757931,   38.9721349 ]]))"
     },
     "metadata": {},
     "output_type": "execute_result",
     "execution_count": 22
    }
   ],
   "source": [
    "# 卡方检验\n",
    "\n",
    "stats.chi2_contingency(cross_array)"
   ],
   "metadata": {
    "collapsed": false,
    "pycharm": {
     "name": "#%%\n",
     "is_executing": false
    }
   }
  },
  {
   "cell_type": "code",
   "execution_count": 23,
   "outputs": [
    {
     "name": "stdout",
     "text": [
      "Test Statistic: 5.6512559164742875\n",
      "p-value: 0.05927142516103865\n",
      "Degrees of Freedom: 2\n",
      "\n"
     ],
     "output_type": "stream"
    }
   ],
   "source": [
    "# 结果不太好看，整理一下\n",
    "\n",
    "chi2, p, df, expected = stats.chi2_contingency(cross_array)\n",
    "msg = \"Test Statistic: {}\\np-value: {}\\nDegrees of Freedom: {}\\n\"\n",
    "print(msg.format(chi2, p, df))"
   ],
   "metadata": {
    "collapsed": false,
    "pycharm": {
     "name": "#%%\n",
     "is_executing": false
    }
   }
  },
  {
   "cell_type": "code",
   "execution_count": 24,
   "outputs": [],
   "source": [
    "# 根据变量BUYER<P>进行数据分割\n",
    "\n",
    "data1 = data_new[data_new['BUYER<P>'] == 1]\n",
    "data0 = data_new[data_new['BUYER<P>'] == 0]"
   ],
   "metadata": {
    "collapsed": false,
    "pycharm": {
     "name": "#%%\n",
     "is_executing": false
    }
   }
  },
  {
   "cell_type": "code",
   "execution_count": 25,
   "outputs": [],
   "source": [
    "# 提取响应者（==1的）的观测数\n",
    "\n",
    "n1 = len(data1)"
   ],
   "metadata": {
    "collapsed": false,
    "pycharm": {
     "name": "#%%\n",
     "is_executing": false
    }
   }
  },
  {
   "cell_type": "code",
   "execution_count": 26,
   "outputs": [],
   "source": [
    "# 创建变量n0记录非响应者的观测数,它的值是响应者观测数n1的两倍\n",
    "\n",
    "n0 = n1*2"
   ],
   "metadata": {
    "collapsed": false,
    "pycharm": {
     "name": "#%%\n",
     "is_executing": false
    }
   }
  },
  {
   "cell_type": "code",
   "execution_count": 27,
   "outputs": [],
   "source": [
    "# 从data0中抽取n0个观测值，组成data_sample\n",
    "\n",
    "data_sample = data0.sample(n=n0, random_state=123)\n",
    "\n",
    "# random_state设定种子，保证每次抽取的结果一样\n",
    "# 这个随机抽样的结果就和R不一样了"
   ],
   "metadata": {
    "collapsed": false,
    "pycharm": {
     "name": "#%%\n",
     "is_executing": false
    }
   }
  },
  {
   "cell_type": "code",
   "execution_count": 28,
   "outputs": [],
   "source": [
    "# 把data1和data_sample存在一个数据框\n",
    "\n",
    "data_new1 = pd.concat([data1, data_sample])\n",
    "\n"
   ],
   "metadata": {
    "collapsed": false,
    "pycharm": {
     "name": "#%%\n",
     "is_executing": false
    }
   }
  },
  {
   "cell_type": "code",
   "execution_count": 29,
   "outputs": [],
   "source": [
    "# 保存文件\n",
    "\n",
    "# 保存为csv\n",
    "data_new1.to_csv('CH 2_2 case2 result_creditnew.csv', index=False)\n",
    "\n",
    "# 保存为excel\n",
    "data_new1.to_excel('CH 2_2 case2 result_creditnew.xlsx', index=False)\n",
    "\n",
    "# 还有些参数自己了解一下吧\n"
   ],
   "metadata": {
    "collapsed": false,
    "pycharm": {
     "name": "#%%\n",
     "is_executing": false
    }
   }
  }
 ],
 "metadata": {
  "kernelspec": {
   "display_name": "Python 3",
   "language": "python",
   "name": "python3"
  },
  "language_info": {
   "codemirror_mode": {
    "name": "ipython",
    "version": 2
   },
   "file_extension": ".py",
   "mimetype": "text/x-python",
   "name": "python",
   "nbconvert_exporter": "python",
   "pygments_lexer": "ipython2",
   "version": "2.7.6"
  },
  "pycharm": {
   "stem_cell": {
    "cell_type": "raw",
    "source": [],
    "metadata": {
     "collapsed": false
    }
   }
  }
 },
 "nbformat": 4,
 "nbformat_minor": 0
}