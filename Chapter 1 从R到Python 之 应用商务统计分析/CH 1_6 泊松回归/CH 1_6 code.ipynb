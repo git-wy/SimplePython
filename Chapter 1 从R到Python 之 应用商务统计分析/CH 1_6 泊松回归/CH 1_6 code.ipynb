{
 "cells": [
  {
   "cell_type": "markdown",
   "source": [
    "# Chapter 1_6 泊松回归\n",
    "----\n",
    "Author: W.Y.  \n",
    "Date: 2020/1/15  \n",
    "Update: 2020/2/5  \n",
    "Info: 王汉生老师书的第六章，泊松回归的python极简实现  \n",
    "\n",
    "----"
   ],
   "metadata": {
    "collapsed": false
   }
  },
  {
   "cell_type": "code",
   "execution_count": 1,
   "outputs": [],
   "source": [
    "# 导入模块\n",
    "\n",
    "import pandas as pd\n",
    "import numpy as np\n",
    "import matplotlib.pyplot as plt  \n",
    "import matplotlib\n",
    "import seaborn as sns\n",
    "import statsmodels.formula.api as smf  "
   ],
   "metadata": {
    "collapsed": false,
    "pycharm": {
     "name": "#%%\n",
     "is_executing": false
    }
   }
  },
  {
   "cell_type": "code",
   "execution_count": 2,
   "outputs": [],
   "source": [
    "# 导入数据\n",
    "\n",
    "data = pd.read_csv('E:\\Data Mining\\SimplePython\\Chapter 1 从R到Python\\CH 1_6 泊松回归\\CH 1_6 data crm.csv')"
   ],
   "metadata": {
    "collapsed": false,
    "pycharm": {
     "name": "#%%\n",
     "is_executing": false
    }
   }
  },
  {
   "cell_type": "code",
   "execution_count": 3,
   "outputs": [
    {
     "data": {
      "text/plain": "   exp3  exp2  exp1  freq3  freq2  freq1  freq0\n0  45.4   0.0   0.0      1      0      0      0\n1  79.6   9.8   0.0      2      2      0      3\n2   0.0   0.0   0.0      0      0      0      0\n3   0.0   0.0   0.0      0      0      0      0\n4   2.1   0.0   0.0      1      0      0      2",
      "text/html": "<div>\n<style scoped>\n    .dataframe tbody tr th:only-of-type {\n        vertical-align: middle;\n    }\n\n    .dataframe tbody tr th {\n        vertical-align: top;\n    }\n\n    .dataframe thead th {\n        text-align: right;\n    }\n</style>\n<table border=\"1\" class=\"dataframe\">\n  <thead>\n    <tr style=\"text-align: right;\">\n      <th></th>\n      <th>exp3</th>\n      <th>exp2</th>\n      <th>exp1</th>\n      <th>freq3</th>\n      <th>freq2</th>\n      <th>freq1</th>\n      <th>freq0</th>\n    </tr>\n  </thead>\n  <tbody>\n    <tr>\n      <th>0</th>\n      <td>45.4</td>\n      <td>0.0</td>\n      <td>0.0</td>\n      <td>1</td>\n      <td>0</td>\n      <td>0</td>\n      <td>0</td>\n    </tr>\n    <tr>\n      <th>1</th>\n      <td>79.6</td>\n      <td>9.8</td>\n      <td>0.0</td>\n      <td>2</td>\n      <td>2</td>\n      <td>0</td>\n      <td>3</td>\n    </tr>\n    <tr>\n      <th>2</th>\n      <td>0.0</td>\n      <td>0.0</td>\n      <td>0.0</td>\n      <td>0</td>\n      <td>0</td>\n      <td>0</td>\n      <td>0</td>\n    </tr>\n    <tr>\n      <th>3</th>\n      <td>0.0</td>\n      <td>0.0</td>\n      <td>0.0</td>\n      <td>0</td>\n      <td>0</td>\n      <td>0</td>\n      <td>0</td>\n    </tr>\n    <tr>\n      <th>4</th>\n      <td>2.1</td>\n      <td>0.0</td>\n      <td>0.0</td>\n      <td>1</td>\n      <td>0</td>\n      <td>0</td>\n      <td>2</td>\n    </tr>\n  </tbody>\n</table>\n</div>"
     },
     "metadata": {},
     "output_type": "execute_result",
     "execution_count": 3
    }
   ],
   "source": [
    "# 预览数据\n",
    "\n",
    "data.head()"
   ],
   "metadata": {
    "collapsed": false,
    "pycharm": {
     "name": "#%%\n",
     "is_executing": false
    }
   }
  },
  {
   "cell_type": "code",
   "execution_count": 4,
   "outputs": [
    {
     "data": {
      "text/plain": "            mean  min  median    max        std\nexp3   16.482553  0.0     0.0  184.9  24.918920\nexp2    9.241151  0.0     0.0  159.1  16.621235\nexp1    7.916971  0.0     0.0  151.0  16.151223\nfreq3   1.161452  0.0     0.0   14.0   1.713073\nfreq2   1.176721  0.0     0.0   12.0   1.737624\nfreq1   0.843805  0.0     0.0   13.0   1.403420\nfreq0   0.686108  0.0     0.0   11.0   1.225090",
      "text/html": "<div>\n<style scoped>\n    .dataframe tbody tr th:only-of-type {\n        vertical-align: middle;\n    }\n\n    .dataframe tbody tr th {\n        vertical-align: top;\n    }\n\n    .dataframe thead th {\n        text-align: right;\n    }\n</style>\n<table border=\"1\" class=\"dataframe\">\n  <thead>\n    <tr style=\"text-align: right;\">\n      <th></th>\n      <th>mean</th>\n      <th>min</th>\n      <th>median</th>\n      <th>max</th>\n      <th>std</th>\n    </tr>\n  </thead>\n  <tbody>\n    <tr>\n      <th>exp3</th>\n      <td>16.482553</td>\n      <td>0.0</td>\n      <td>0.0</td>\n      <td>184.9</td>\n      <td>24.918920</td>\n    </tr>\n    <tr>\n      <th>exp2</th>\n      <td>9.241151</td>\n      <td>0.0</td>\n      <td>0.0</td>\n      <td>159.1</td>\n      <td>16.621235</td>\n    </tr>\n    <tr>\n      <th>exp1</th>\n      <td>7.916971</td>\n      <td>0.0</td>\n      <td>0.0</td>\n      <td>151.0</td>\n      <td>16.151223</td>\n    </tr>\n    <tr>\n      <th>freq3</th>\n      <td>1.161452</td>\n      <td>0.0</td>\n      <td>0.0</td>\n      <td>14.0</td>\n      <td>1.713073</td>\n    </tr>\n    <tr>\n      <th>freq2</th>\n      <td>1.176721</td>\n      <td>0.0</td>\n      <td>0.0</td>\n      <td>12.0</td>\n      <td>1.737624</td>\n    </tr>\n    <tr>\n      <th>freq1</th>\n      <td>0.843805</td>\n      <td>0.0</td>\n      <td>0.0</td>\n      <td>13.0</td>\n      <td>1.403420</td>\n    </tr>\n    <tr>\n      <th>freq0</th>\n      <td>0.686108</td>\n      <td>0.0</td>\n      <td>0.0</td>\n      <td>11.0</td>\n      <td>1.225090</td>\n    </tr>\n  </tbody>\n</table>\n</div>"
     },
     "metadata": {},
     "output_type": "execute_result",
     "execution_count": 4
    }
   ],
   "source": [
    "# 描述性分析\n",
    "\n",
    "df_describe = pd.concat([data.mean(),data.min(), \n",
    "                         data.median(),data.max(),\n",
    "                         data.std()], axis=1)\n",
    "df_describe.columns = ['mean', 'min', 'median', 'max', 'std']  # 重命名列名\n",
    "df_describe"
   ],
   "metadata": {
    "collapsed": false,
    "pycharm": {
     "name": "#%%\n",
     "is_executing": false
    }
   }
  },
  {
   "cell_type": "code",
   "execution_count": 5,
   "outputs": [
    {
     "data": {
      "text/plain": "<matplotlib.axes._subplots.AxesSubplot at 0x24cdac7c6d8>"
     },
     "metadata": {},
     "output_type": "execute_result",
     "execution_count": 5
    },
    {
     "data": {
      "text/plain": "<Figure size 432x288 with 1 Axes>",
      "image/png": "[encoded data removed]"
     },
     "metadata": {
      "needs_background": "light"
     },
     "output_type": "display_data"
    }
   ],
   "source": [
    "# 箱图\n",
    "\n",
    "matplotlib.rcParams['font.sans-serif'] = ['SimHei']  # 正常显示中文\n",
    "plt.rcParams['axes.unicode_minus']=False  # 正常显示负号\n",
    "\n",
    "sns.boxplot(x='freq0',y='freq1',data=data, color='white')  \n"
   ],
   "metadata": {
    "collapsed": false,
    "pycharm": {
     "name": "#%%\n",
     "is_executing": false
    }
   }
  },
  {
   "cell_type": "code",
   "execution_count": 6,
   "outputs": [
    {
     "data": {
      "text/plain": "<matplotlib.axes._subplots.AxesSubplot at 0x24cdac69c18>"
     },
     "metadata": {},
     "output_type": "execute_result",
     "execution_count": 6
    },
    {
     "data": {
      "text/plain": "<Figure size 432x288 with 1 Axes>",
      "image/png": "[encoded data removed]"
     },
     "metadata": {
      "needs_background": "light"
     },
     "output_type": "display_data"
    }
   ],
   "source": [
    "sns.boxplot(x='freq0',y='exp1',data=data, color='white') "
   ],
   "metadata": {
    "collapsed": false,
    "pycharm": {
     "name": "#%%\n",
     "is_executing": false
    }
   }
  },
  {
   "cell_type": "code",
   "execution_count": 7,
   "outputs": [
    {
     "data": {
      "text/plain": "<Figure size 576x432 with 6 Axes>",
      "image/png": "[encoded data removed]"
     },
     "metadata": {
      "needs_background": "light"
     },
     "output_type": "display_data"
    }
   ],
   "source": [
    "# 箱图 （多图一起画）\n",
    "\n",
    "fig = plt.figure(figsize=(8, 6))\n",
    "sns.boxplot(x=data['freq0'],y=data['freq1'], color='grey',  \n",
    "            ax=plt.subplot(2,3,1)).set_title(\"第-1月\")\n",
    "sns.boxplot(x=data['freq0'],y=data['freq2'], color='grey', \n",
    "            ax=plt.subplot(2,3,2)).set_title(\"第-2月\")\n",
    "sns.boxplot(x=data['freq0'],y=data['freq3'], color='grey',  \n",
    "            ax=plt.subplot(2,3,3)).set_title(\"第-3月\")\n",
    "sns.boxplot(x=data['freq0'],y=data['exp1'], color='grey', \n",
    "            ax=plt.subplot(2,3,4)).set_title(\"第-1月\")\n",
    "sns.boxplot(x=data['freq0'],y=data['exp2'], color='grey',  \n",
    "            ax=plt.subplot(2,3,5)).set_title(\"第-2月\")\n",
    "sns.boxplot(x=data['freq0'],y=data['exp3'], color='grey', \n",
    "            ax=plt.subplot(2,3,6)).set_title(\"第-3月\")\n",
    "fig.tight_layout()"
   ],
   "metadata": {
    "collapsed": false,
    "pycharm": {
     "name": "#%%\n",
     "is_executing": false
    }
   }
  },
  {
   "cell_type": "code",
   "execution_count": 8,
   "outputs": [
    {
     "name": "stdout",
     "text": [
      "Optimization terminated successfully.\n",
      "         Current function value: 1.007964\n",
      "         Iterations 10\n",
      "                          Poisson Regression Results                          \n",
      "==============================================================================\n",
      "Dep. Variable:                  freq0   No. Observations:                 3995\n",
      "Model:                        Poisson   Df Residuals:                     3988\n",
      "Method:                           MLE   Df Model:                            6\n",
      "Date:                Wed, 05 Feb 2020   Pseudo R-squ.:                  0.2104\n",
      "Time:                        12:12:53   Log-Likelihood:                -4026.8\n",
      "converged:                       True   LL-Null:                       -5099.8\n",
      "                                        LLR p-value:                     0.000\n",
      "==============================================================================\n",
      "                 coef    std err          z      P>|z|      [0.025      0.975]\n",
      "------------------------------------------------------------------------------\n",
      "Intercept     -1.1382      0.031    -37.288      0.000      -1.198      -1.078\n",
      "freq1          0.1792      0.013     13.604      0.000       0.153       0.205\n",
      "freq2          0.0733      0.011      6.892      0.000       0.052       0.094\n",
      "freq3          0.0915      0.010      8.758      0.000       0.071       0.112\n",
      "exp1           0.0069      0.001      7.604      0.000       0.005       0.009\n",
      "exp2           0.0051      0.001      5.245      0.000       0.003       0.007\n",
      "exp3           0.0032      0.001      3.647      0.000       0.001       0.005\n",
      "==============================================================================\n"
     ],
     "output_type": "stream"
    }
   ],
   "source": [
    "# 泊松回归\n",
    "\n",
    "model1 = smf.poisson('freq0 ~ freq1 + freq2 + freq3 + '\n",
    "                     'exp1 + exp2 + exp3', data).fit()\n",
    "print(model1.summary())"
   ],
   "metadata": {
    "collapsed": false,
    "pycharm": {
     "name": "#%%\n",
     "is_executing": false
    }
   }
  },
  {
   "cell_type": "code",
   "execution_count": 9,
   "outputs": [],
   "source": [
    "# 预测\n",
    "\n",
    "data_new = pd.read_csv('E:\\Data Mining\\SimplePython\\Chapter 1 从R到Python\\CH 1_6 泊松回归\\CH 1_6 data new.csv')\n",
    "data_new.head()"
   ],
   "metadata": {
    "collapsed": false,
    "pycharm": {
     "name": "#%%\n",
     "is_executing": false
    }
   }
  },
  {
   "cell_type": "code",
   "execution_count": 11,
   "outputs": [],
   "source": [
    "data_new['predict'] = model1.predict(data_new)\n",
    "data_new.head()"
   ],
   "metadata": {
    "collapsed": false,
    "pycharm": {
     "name": "#%%\n",
     "is_executing": false
    }
   }
  },
  {
   "cell_type": "code",
   "execution_count": 13,
   "outputs": [
    {
     "data": {
      "text/plain": "1.344686326903291"
     },
     "metadata": {},
     "output_type": "execute_result",
     "execution_count": 13
    }
   ],
   "source": [
    "# 绝对预测误差\n",
    "\n",
    "np.sqrt(np.mean((data_new['freq0']-data_new['predict'])**2))\n",
    "\n"
   ],
   "metadata": {
    "collapsed": false,
    "pycharm": {
     "name": "#%%\n",
     "is_executing": false
    }
   }
  }
 ],
 "metadata": {
  "kernelspec": {
   "display_name": "Python 3",
   "language": "python",
   "name": "python3"
  },
  "language_info": {
   "codemirror_mode": {
    "name": "ipython",
    "version": 2
   },
   "file_extension": ".py",
   "mimetype": "text/x-python",
   "name": "python",
   "nbconvert_exporter": "python",
   "pygments_lexer": "ipython2",
   "version": "2.7.6"
  },
  "pycharm": {
   "stem_cell": {
    "cell_type": "raw",
    "source": [],
    "metadata": {
     "collapsed": false
    }
   }
  }
 },
 "nbformat": 4,
 "nbformat_minor": 0
}